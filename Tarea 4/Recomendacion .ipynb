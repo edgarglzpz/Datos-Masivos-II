{
 "cells": [
  {
   "cell_type": "markdown",
   "metadata": {},
   "source": [
    "### Utilizar el archivo ratings_libros_usuario_tarea para agregar dichos ratings al archivo de ratings csv. "
   ]
  },
  {
   "cell_type": "code",
   "execution_count": 1,
   "metadata": {},
   "outputs": [],
   "source": [
    "from zipfile import ZipFile\n",
    "import pandas as pd\n",
    "import numpy as np"
   ]
  },
  {
   "cell_type": "code",
   "execution_count": 2,
   "metadata": {},
   "outputs": [],
   "source": [
    "nombre_zip = \"goodbooks-20210115T022509Z-001.zip\""
   ]
  },
  {
   "cell_type": "code",
   "execution_count": 3,
   "metadata": {},
   "outputs": [
    {
     "name": "stdout",
     "output_type": "stream",
     "text": [
      "File Name                                             Modified             Size\n",
      "goodbooks/                                     2021-01-14 21:59:16            0\n",
      "goodbooks/books.csv                            2019-09-20 20:05:38      3296741\n",
      "goodbooks/book_tags.csv                        2019-09-20 20:05:36     16665883\n",
      "goodbooks/ratings.csv                          2019-09-20 20:05:38     12437766\n",
      "goodbooks/ratings_libros_usuario_tarea.ods     2021-01-08 18:22:34        23407\n",
      "goodbooks/ratings_libros_usuario_tarea.xlsx    2021-01-14 21:57:56        23165\n",
      "goodbooks/sample_book.xml                      2019-09-20 20:05:40        28402\n",
      "goodbooks/tags.csv                             2019-09-20 20:05:40       722480\n",
      "goodbooks/to_read.csv                          2019-09-20 20:05:40      9407334\n"
     ]
    }
   ],
   "source": [
    "with ZipFile(nombre_zip, 'r') as zip: \n",
    "    zip.printdir() "
   ]
  },
  {
   "cell_type": "code",
   "execution_count": 4,
   "metadata": {},
   "outputs": [],
   "source": [
    "archivo_zip = ZipFile(nombre_zip, 'r')"
   ]
  },
  {
   "cell_type": "code",
   "execution_count": 5,
   "metadata": {},
   "outputs": [],
   "source": [
    "ratings_zip = archivo_zip.open(\"goodbooks/ratings.csv\")\n",
    "ratings = pd.read_csv(ratings_zip)"
   ]
  },
  {
   "cell_type": "code",
   "execution_count": 6,
   "metadata": {},
   "outputs": [
    {
     "data": {
      "text/html": [
       "<div>\n",
       "<style scoped>\n",
       "    .dataframe tbody tr th:only-of-type {\n",
       "        vertical-align: middle;\n",
       "    }\n",
       "\n",
       "    .dataframe tbody tr th {\n",
       "        vertical-align: top;\n",
       "    }\n",
       "\n",
       "    .dataframe thead th {\n",
       "        text-align: right;\n",
       "    }\n",
       "</style>\n",
       "<table border=\"1\" class=\"dataframe\">\n",
       "  <thead>\n",
       "    <tr style=\"text-align: right;\">\n",
       "      <th></th>\n",
       "      <th>book_id</th>\n",
       "      <th>user_id</th>\n",
       "      <th>rating</th>\n",
       "    </tr>\n",
       "  </thead>\n",
       "  <tbody>\n",
       "    <tr>\n",
       "      <th>0</th>\n",
       "      <td>1</td>\n",
       "      <td>314</td>\n",
       "      <td>5</td>\n",
       "    </tr>\n",
       "    <tr>\n",
       "      <th>1</th>\n",
       "      <td>1</td>\n",
       "      <td>439</td>\n",
       "      <td>3</td>\n",
       "    </tr>\n",
       "    <tr>\n",
       "      <th>2</th>\n",
       "      <td>1</td>\n",
       "      <td>588</td>\n",
       "      <td>5</td>\n",
       "    </tr>\n",
       "    <tr>\n",
       "      <th>3</th>\n",
       "      <td>1</td>\n",
       "      <td>1169</td>\n",
       "      <td>4</td>\n",
       "    </tr>\n",
       "    <tr>\n",
       "      <th>4</th>\n",
       "      <td>1</td>\n",
       "      <td>1185</td>\n",
       "      <td>4</td>\n",
       "    </tr>\n",
       "  </tbody>\n",
       "</table>\n",
       "</div>"
      ],
      "text/plain": [
       "   book_id  user_id  rating\n",
       "0        1      314       5\n",
       "1        1      439       3\n",
       "2        1      588       5\n",
       "3        1     1169       4\n",
       "4        1     1185       4"
      ]
     },
     "execution_count": 6,
     "metadata": {},
     "output_type": "execute_result"
    }
   ],
   "source": [
    "ratings.head()"
   ]
  },
  {
   "cell_type": "code",
   "execution_count": 7,
   "metadata": {},
   "outputs": [
    {
     "data": {
      "text/html": [
       "<div>\n",
       "<style scoped>\n",
       "    .dataframe tbody tr th:only-of-type {\n",
       "        vertical-align: middle;\n",
       "    }\n",
       "\n",
       "    .dataframe tbody tr th {\n",
       "        vertical-align: top;\n",
       "    }\n",
       "\n",
       "    .dataframe thead th {\n",
       "        text-align: right;\n",
       "    }\n",
       "</style>\n",
       "<table border=\"1\" class=\"dataframe\">\n",
       "  <thead>\n",
       "    <tr style=\"text-align: right;\">\n",
       "      <th></th>\n",
       "      <th>title</th>\n",
       "      <th>rating</th>\n",
       "    </tr>\n",
       "  </thead>\n",
       "  <tbody>\n",
       "    <tr>\n",
       "      <th>0</th>\n",
       "      <td>El Avaro</td>\n",
       "      <td>it was amazing</td>\n",
       "    </tr>\n",
       "    <tr>\n",
       "      <th>1</th>\n",
       "      <td>Estudio en escarlata</td>\n",
       "      <td>it was amazing</td>\n",
       "    </tr>\n",
       "    <tr>\n",
       "      <th>2</th>\n",
       "      <td>El principito</td>\n",
       "      <td>it was amazing</td>\n",
       "    </tr>\n",
       "    <tr>\n",
       "      <th>3</th>\n",
       "      <td>Cuando Hitler robó el conejo rosa</td>\n",
       "      <td>it was amazing</td>\n",
       "    </tr>\n",
       "    <tr>\n",
       "      <th>4</th>\n",
       "      <td>The Metamorphosis</td>\n",
       "      <td>it was amazing</td>\n",
       "    </tr>\n",
       "  </tbody>\n",
       "</table>\n",
       "</div>"
      ],
      "text/plain": [
       "                               title          rating\n",
       "0                           El Avaro  it was amazing\n",
       "1               Estudio en escarlata  it was amazing\n",
       "2                      El principito  it was amazing\n",
       "3  Cuando Hitler robó el conejo rosa  it was amazing\n",
       "4                  The Metamorphosis  it was amazing"
      ]
     },
     "execution_count": 7,
     "metadata": {},
     "output_type": "execute_result"
    }
   ],
   "source": [
    "ratings_usuario_zip = archivo_zip.open(\"goodbooks/ratings_libros_usuario_tarea.xlsx\")\n",
    "ratings_usuario = pd.read_excel(ratings_usuario_zip, sheet_name = \"ratings\", usecols = [\"title\", \"rating\"])\n",
    "ratings_usuario.head()"
   ]
  },
  {
   "cell_type": "code",
   "execution_count": 8,
   "metadata": {},
   "outputs": [
    {
     "data": {
      "text/html": [
       "<div>\n",
       "<style scoped>\n",
       "    .dataframe tbody tr th:only-of-type {\n",
       "        vertical-align: middle;\n",
       "    }\n",
       "\n",
       "    .dataframe tbody tr th {\n",
       "        vertical-align: top;\n",
       "    }\n",
       "\n",
       "    .dataframe thead th {\n",
       "        text-align: right;\n",
       "    }\n",
       "</style>\n",
       "<table border=\"1\" class=\"dataframe\">\n",
       "  <thead>\n",
       "    <tr style=\"text-align: right;\">\n",
       "      <th></th>\n",
       "      <th>estrellas</th>\n",
       "    </tr>\n",
       "    <tr>\n",
       "      <th>rating</th>\n",
       "      <th></th>\n",
       "    </tr>\n",
       "  </thead>\n",
       "  <tbody>\n",
       "    <tr>\n",
       "      <th>did not like it</th>\n",
       "      <td>1</td>\n",
       "    </tr>\n",
       "    <tr>\n",
       "      <th>it was ok</th>\n",
       "      <td>2</td>\n",
       "    </tr>\n",
       "    <tr>\n",
       "      <th>liked it</th>\n",
       "      <td>3</td>\n",
       "    </tr>\n",
       "    <tr>\n",
       "      <th>really liked it</th>\n",
       "      <td>4</td>\n",
       "    </tr>\n",
       "    <tr>\n",
       "      <th>it was amazing</th>\n",
       "      <td>5</td>\n",
       "    </tr>\n",
       "  </tbody>\n",
       "</table>\n",
       "</div>"
      ],
      "text/plain": [
       "                 estrellas\n",
       "rating                    \n",
       "did not like it          1\n",
       "it was ok                2\n",
       "liked it                 3\n",
       "really liked it          4\n",
       "it was amazing           5"
      ]
     },
     "execution_count": 8,
     "metadata": {},
     "output_type": "execute_result"
    }
   ],
   "source": [
    "ratings_catalogo = pd.read_excel(ratings_usuario_zip, sheet_name = \"catálogo\")\n",
    "ratings_catalogo = ratings_catalogo.set_index(\"rating\")\n",
    "ratings_catalogo"
   ]
  },
  {
   "cell_type": "code",
   "execution_count": 9,
   "metadata": {},
   "outputs": [],
   "source": [
    "#Mapeamos el rating de este diccionario\n",
    "ratings_catalogo = ratings_catalogo.to_dict()[\"estrellas\"]\n",
    "ratings_usuario[\"rating\"] = ratings_usuario[\"rating\"].map(ratings_catalogo)"
   ]
  },
  {
   "cell_type": "code",
   "execution_count": 10,
   "metadata": {},
   "outputs": [
    {
     "data": {
      "text/html": [
       "<div>\n",
       "<style scoped>\n",
       "    .dataframe tbody tr th:only-of-type {\n",
       "        vertical-align: middle;\n",
       "    }\n",
       "\n",
       "    .dataframe tbody tr th {\n",
       "        vertical-align: top;\n",
       "    }\n",
       "\n",
       "    .dataframe thead th {\n",
       "        text-align: right;\n",
       "    }\n",
       "</style>\n",
       "<table border=\"1\" class=\"dataframe\">\n",
       "  <thead>\n",
       "    <tr style=\"text-align: right;\">\n",
       "      <th></th>\n",
       "      <th>book_id</th>\n",
       "      <th>user_id</th>\n",
       "      <th>rating</th>\n",
       "    </tr>\n",
       "  </thead>\n",
       "  <tbody>\n",
       "    <tr>\n",
       "      <th>0</th>\n",
       "      <td>1</td>\n",
       "      <td>314</td>\n",
       "      <td>5</td>\n",
       "    </tr>\n",
       "    <tr>\n",
       "      <th>1</th>\n",
       "      <td>1</td>\n",
       "      <td>439</td>\n",
       "      <td>3</td>\n",
       "    </tr>\n",
       "    <tr>\n",
       "      <th>2</th>\n",
       "      <td>1</td>\n",
       "      <td>588</td>\n",
       "      <td>5</td>\n",
       "    </tr>\n",
       "    <tr>\n",
       "      <th>3</th>\n",
       "      <td>1</td>\n",
       "      <td>1169</td>\n",
       "      <td>4</td>\n",
       "    </tr>\n",
       "    <tr>\n",
       "      <th>4</th>\n",
       "      <td>1</td>\n",
       "      <td>1185</td>\n",
       "      <td>4</td>\n",
       "    </tr>\n",
       "    <tr>\n",
       "      <th>...</th>\n",
       "      <td>...</td>\n",
       "      <td>...</td>\n",
       "      <td>...</td>\n",
       "    </tr>\n",
       "    <tr>\n",
       "      <th>981751</th>\n",
       "      <td>10000</td>\n",
       "      <td>48386</td>\n",
       "      <td>5</td>\n",
       "    </tr>\n",
       "    <tr>\n",
       "      <th>981752</th>\n",
       "      <td>10000</td>\n",
       "      <td>49007</td>\n",
       "      <td>4</td>\n",
       "    </tr>\n",
       "    <tr>\n",
       "      <th>981753</th>\n",
       "      <td>10000</td>\n",
       "      <td>49383</td>\n",
       "      <td>5</td>\n",
       "    </tr>\n",
       "    <tr>\n",
       "      <th>981754</th>\n",
       "      <td>10000</td>\n",
       "      <td>50124</td>\n",
       "      <td>5</td>\n",
       "    </tr>\n",
       "    <tr>\n",
       "      <th>981755</th>\n",
       "      <td>10000</td>\n",
       "      <td>51328</td>\n",
       "      <td>1</td>\n",
       "    </tr>\n",
       "  </tbody>\n",
       "</table>\n",
       "<p>981756 rows × 3 columns</p>\n",
       "</div>"
      ],
      "text/plain": [
       "        book_id  user_id  rating\n",
       "0             1      314       5\n",
       "1             1      439       3\n",
       "2             1      588       5\n",
       "3             1     1169       4\n",
       "4             1     1185       4\n",
       "...         ...      ...     ...\n",
       "981751    10000    48386       5\n",
       "981752    10000    49007       4\n",
       "981753    10000    49383       5\n",
       "981754    10000    50124       5\n",
       "981755    10000    51328       1\n",
       "\n",
       "[981756 rows x 3 columns]"
      ]
     },
     "execution_count": 10,
     "metadata": {},
     "output_type": "execute_result"
    }
   ],
   "source": [
    "ratings"
   ]
  },
  {
   "cell_type": "code",
   "execution_count": 11,
   "metadata": {},
   "outputs": [],
   "source": [
    "#Cargamos el archivo que contiene el id y nombre de los libros \n",
    "libros_zip = archivo_zip.open(\"goodbooks/books.csv\")\n",
    "libros = pd.read_csv(libros_zip, usecols = [\"book_id\", \"title\"], encoding = \"utf-8\")"
   ]
  },
  {
   "cell_type": "code",
   "execution_count": 12,
   "metadata": {},
   "outputs": [],
   "source": [
    "#Quitamos duplicados y creamos un diccionario para mapear sobre la columna\n",
    "#de title de ratings_usuario y obtener el id de la película\n",
    "libros = libros.drop_duplicates()\n",
    "libros = libros.set_index(\"title\")\n",
    "libros_dict = libros.to_dict()[\"book_id\"]"
   ]
  },
  {
   "cell_type": "code",
   "execution_count": 13,
   "metadata": {},
   "outputs": [],
   "source": [
    "ratings_usuario[\"title_id\"] = ratings_usuario[\"title\"].map(libros_dict)"
   ]
  },
  {
   "cell_type": "code",
   "execution_count": 14,
   "metadata": {},
   "outputs": [
    {
     "data": {
      "text/plain": [
       "78"
      ]
     },
     "execution_count": 14,
     "metadata": {},
     "output_type": "execute_result"
    }
   ],
   "source": [
    "#Hay películas que el diccionario no mapeo, por lo tanto son NaN\n",
    "ratings_usuario[\"title_id\"].isna().sum()"
   ]
  },
  {
   "cell_type": "code",
   "execution_count": 15,
   "metadata": {},
   "outputs": [],
   "source": [
    "con_nan = ratings_usuario[ratings_usuario.title_id.isna()]"
   ]
  },
  {
   "cell_type": "code",
   "execution_count": 16,
   "metadata": {},
   "outputs": [],
   "source": [
    "libros_con_nan = set(con_nan[\"title\"])"
   ]
  },
  {
   "cell_type": "code",
   "execution_count": 17,
   "metadata": {},
   "outputs": [
    {
     "name": "stdout",
     "output_type": "stream",
     "text": [
      "{'A la sombra del ángel', 'La historiadora', 'Harry Potter y el legado maldito. Partes uno y dos', 'Fuego y sangre (La historia de los Targaryen, #1)', 'Estudio en escarlata', 'Un mundo sin fin', 'Donde habitan los ángeles', 'El resplandor', 'Nada se opone a la noche', 'Un mal nombre (La amiga estupenda, #2)', \"La amiga estupenda (L'amica geniale #1)\", 'Cometas en el cielo', 'Las Mil y Una Noches', 'La verdad sobre el caso Harry Quebert', 'Usted puede sanar su vida', 'Muchas vidas, muchos maestros', 'Huesos de lagartija', 'El nombre de la rosa', 'El llano en llamas', 'Fantastic Beasts and Where to Find Them: The Original Screenplay (Fantastic Beasts: The Original Screenplay, #1)', 'Basada en hechos reales', 'Mi negro pasado (Como agua para chocolate, #3)', 'El Avaro', 'The Shadow of the Wind (The Cemetery of Forgotten Books, #1)', 'Viaje Al Centro de la Tierra', 'La ridícula idea de no volver a verte', 'Juan Salvador Gaviota', 'El diablo de los números', 'Jaque al Psicoanalista (El psicoanalista, #2)', 'La soledad de los números primos', 'El gato del Dalai Lama', 'El temor de un hombre sabio (Crónica del asesino de Reyes, #2)', 'Historias de mujeres', 'Las deudas del cuerpo', 'El cuento de la isla desconocida', 'El principito', 'La casa de los espíritus', 'Mira si yo te querré', 'Voices from Chernobyl: The Oral History of a Nuclear Disaster', 'Sangre en el Nilo', 'Los Ninos de Irena', 'Maldicion de RA, La', 'La inteligencia emocional', 'Cementerio de animales', 'Los Románov: 1613-1918', 'El nombre del viento (Crónica del asesino de reyes, #1)', 'Relato de un náufrago', 'Ready Player One (Ready Player One, #1)', 'El curioso incidente del perro a medianoche', 'Bonsai', 'El horror de Dunwich', 'The Pillars of the Earth (Kingsbridge, #1)', 'Bella y oscura', 'Eclipse', 'A Lupita le gustaba planchar', 'te amo... pero soy feliz sin ti', 'Nahui Olin, la mujer del sol', 'The Halloween Tree', 'Las mujeres que aman demasiado', 'Como agua para chocolate', 'La Búsqueda', 'Ciudades de papel', \"Bibbi Bokken's Magic Library\", 'El evangelio según Jesucristo', 'Fantastic Beasts - The Crimes of Grindelwald: The Original Screenplay', 'Vita Brevis: A Letter to St Augustine', 'Alicia en el país de las maravillas. A través del espejo y lo que Alicia encontró allí', 'La niña perdida (La amiga estupenda, #4)', 'La noche de Tlatelolco', 'El extranjero', 'Cien años de soledad', 'El Sueño de una Noche de Verano - La Fierecilla Domada', 'La ciudad de las bestias', 'El psicoanalista (El psicoanalista, #1)', 'Tokio blues. Norwegian Wood', 'El clan del oso cavernario (Los hijos de la tierra, #1)', 'Cuando Hitler robó el conejo rosa', 'El caballero de la armadura oxidada'}\n"
     ]
    }
   ],
   "source": [
    "print(libros_con_nan)"
   ]
  },
  {
   "cell_type": "code",
   "execution_count": 18,
   "metadata": {},
   "outputs": [],
   "source": [
    "def DistJaccard(str1, str2):\n",
    "    str1 = set(str1.split())\n",
    "    str2 = set(str2.split())\n",
    "    return float(len(str1 & str2)) / len(str1 | str2)"
   ]
  },
  {
   "cell_type": "code",
   "execution_count": 19,
   "metadata": {},
   "outputs": [],
   "source": [
    "arr = []\n",
    "for titulo in list(set(libros.index)):\n",
    "    arr.append(DistJaccard(titulo,\"Fantastic Beasts - The Crimes of Grindelwald: The Original Screenplay\"))"
   ]
  },
  {
   "cell_type": "code",
   "execution_count": 20,
   "metadata": {},
   "outputs": [],
   "source": [
    "arr = np.array(arr)"
   ]
  },
  {
   "cell_type": "code",
   "execution_count": 21,
   "metadata": {},
   "outputs": [
    {
     "data": {
      "text/plain": [
       "array([0.        , 0.07142857, 0.        , ..., 0.        , 0.        ,\n",
       "       0.08333333])"
      ]
     },
     "execution_count": 21,
     "metadata": {},
     "output_type": "execute_result"
    }
   ],
   "source": [
    "arr"
   ]
  },
  {
   "cell_type": "code",
   "execution_count": 22,
   "metadata": {},
   "outputs": [],
   "source": [
    "indice = np.where(arr == max(arr))[0][0]"
   ]
  },
  {
   "cell_type": "code",
   "execution_count": 23,
   "metadata": {},
   "outputs": [],
   "source": [
    "lista_libros = list(set(libros.index))"
   ]
  },
  {
   "cell_type": "code",
   "execution_count": 24,
   "metadata": {},
   "outputs": [
    {
     "data": {
      "text/plain": [
       "'Fantastic Beasts and Where to Find Them: The Original Screenplay'"
      ]
     },
     "execution_count": 24,
     "metadata": {},
     "output_type": "execute_result"
    }
   ],
   "source": [
    "lista_libros[indice]"
   ]
  },
  {
   "cell_type": "code",
   "execution_count": 25,
   "metadata": {},
   "outputs": [],
   "source": [
    "def buscar(libro_a_buscar):\n",
    "    arr = []\n",
    "    for titulo in list(set(libros.index)):\n",
    "        arr.append(DistJaccard(titulo,libro_a_buscar))\n",
    "    arr = np.array(arr)\n",
    "    indice = np.where(arr == max(arr))[0][0]\n",
    "    return [libro_a_buscar, lista_libros[indice], float(max(arr))]"
   ]
  },
  {
   "cell_type": "code",
   "execution_count": 26,
   "metadata": {},
   "outputs": [],
   "source": [
    "resultados = []\n",
    "for libro in libros_con_nan:\n",
    "    resultados.append(buscar(libro_a_buscar = libro))"
   ]
  },
  {
   "cell_type": "code",
   "execution_count": 27,
   "metadata": {
    "scrolled": false
   },
   "outputs": [],
   "source": [
    "resultado_mayor_umbral = []\n",
    "for i in range(len(resultados)):\n",
    "    resultado_mayor_umbral.append(resultados[i][2] > 0.3)"
   ]
  },
  {
   "cell_type": "code",
   "execution_count": 28,
   "metadata": {},
   "outputs": [
    {
     "data": {
      "text/plain": [
       "array([['La historiadora', 'La tregua', '0.3333333333333333'],\n",
       "       ['El resplandor', 'El Deafo', '0.3333333333333333'],\n",
       "       ['Fantastic Beasts and Where to Find Them: The Original Screenplay (Fantastic Beasts: The Original Screenplay, #1)',\n",
       "        'Fantastic Beasts and Where to Find Them: The Original Screenplay',\n",
       "        '0.7142857142857143'],\n",
       "       ['El Avaro', 'El Deafo', '0.3333333333333333'],\n",
       "       ['The Shadow of the Wind (The Cemetery of Forgotten Books, #1)',\n",
       "        'The Shadow of the Wind (The Cemetery of Forgotten Books,  #1)',\n",
       "        '1.0'],\n",
       "       ['El principito', 'El Deafo', '0.3333333333333333'],\n",
       "       ['La casa de los espíritus', 'La casa de Bernarda Alba',\n",
       "        '0.42857142857142855'],\n",
       "       ['Voices from Chernobyl: The Oral History of a Nuclear Disaster',\n",
       "        'The History of Tom Jones, a Foundling', '0.3076923076923077'],\n",
       "       ['Ready Player One (Ready Player One, #1)', 'Ready Player One',\n",
       "        '0.5'],\n",
       "       ['The Pillars of the Earth (Kingsbridge, #1)',\n",
       "        'The Pillars of the Earth (The Kingsbridge Series, #1)', '0.6'],\n",
       "       ['Eclipse', 'Eclipse (Twilight, #3)', '0.3333333333333333'],\n",
       "       ['The Halloween Tree', 'The Elephant Tree', '0.5'],\n",
       "       ['La Búsqueda', 'La tregua', '0.3333333333333333'],\n",
       "       ['Fantastic Beasts - The Crimes of Grindelwald: The Original Screenplay',\n",
       "        'Fantastic Beasts and Where to Find Them: The Original Screenplay',\n",
       "        '0.35714285714285715'],\n",
       "       ['El extranjero', 'El Deafo', '0.3333333333333333'],\n",
       "       ['Tokio blues. Norwegian Wood', 'Norwegian Wood', '0.5']],\n",
       "      dtype='<U112')"
      ]
     },
     "execution_count": 28,
     "metadata": {},
     "output_type": "execute_result"
    }
   ],
   "source": [
    "np.array(resultados)[resultado_mayor_umbral]"
   ]
  },
  {
   "cell_type": "markdown",
   "metadata": {},
   "source": [
    "Podemos observar que con la distancia de Jaccard con un umbral de 0.3 sólo algunos títulos coinciden con los que verdaderamente son y corresponden, sin embargo hay algunos títulos de libros que no corresponden al que está en catálogo, ejemplo: La Bbúsqueda y La Tregua (tienen un indice alto de Jaccard por que los titulso se componen de dos palabras). Por lo tanto, creamos un nuevo ID para estas películas."
   ]
  },
  {
   "cell_type": "markdown",
   "metadata": {},
   "source": [
    "### Asignar un nuevo id de usuario a los ratings agregados en el paso anterior."
   ]
  },
  {
   "cell_type": "code",
   "execution_count": 29,
   "metadata": {},
   "outputs": [
    {
     "data": {
      "text/html": [
       "<div>\n",
       "<style scoped>\n",
       "    .dataframe tbody tr th:only-of-type {\n",
       "        vertical-align: middle;\n",
       "    }\n",
       "\n",
       "    .dataframe tbody tr th {\n",
       "        vertical-align: top;\n",
       "    }\n",
       "\n",
       "    .dataframe thead th {\n",
       "        text-align: right;\n",
       "    }\n",
       "</style>\n",
       "<table border=\"1\" class=\"dataframe\">\n",
       "  <thead>\n",
       "    <tr style=\"text-align: right;\">\n",
       "      <th></th>\n",
       "      <th>book_id</th>\n",
       "      <th>title</th>\n",
       "    </tr>\n",
       "  </thead>\n",
       "  <tbody>\n",
       "    <tr>\n",
       "      <th>0</th>\n",
       "      <td>2767052</td>\n",
       "      <td>The Hunger Games (The Hunger Games, #1)</td>\n",
       "    </tr>\n",
       "    <tr>\n",
       "      <th>1</th>\n",
       "      <td>3</td>\n",
       "      <td>Harry Potter and the Sorcerer's Stone (Harry P...</td>\n",
       "    </tr>\n",
       "    <tr>\n",
       "      <th>2</th>\n",
       "      <td>41865</td>\n",
       "      <td>Twilight (Twilight, #1)</td>\n",
       "    </tr>\n",
       "    <tr>\n",
       "      <th>3</th>\n",
       "      <td>2657</td>\n",
       "      <td>To Kill a Mockingbird</td>\n",
       "    </tr>\n",
       "    <tr>\n",
       "      <th>4</th>\n",
       "      <td>4671</td>\n",
       "      <td>The Great Gatsby</td>\n",
       "    </tr>\n",
       "    <tr>\n",
       "      <th>...</th>\n",
       "      <td>...</td>\n",
       "      <td>...</td>\n",
       "    </tr>\n",
       "    <tr>\n",
       "      <th>9995</th>\n",
       "      <td>7130616</td>\n",
       "      <td>Bayou Moon (The Edge, #2)</td>\n",
       "    </tr>\n",
       "    <tr>\n",
       "      <th>9996</th>\n",
       "      <td>208324</td>\n",
       "      <td>Means of Ascent (The Years of Lyndon Johnson, #2)</td>\n",
       "    </tr>\n",
       "    <tr>\n",
       "      <th>9997</th>\n",
       "      <td>77431</td>\n",
       "      <td>The Mauritius Command</td>\n",
       "    </tr>\n",
       "    <tr>\n",
       "      <th>9998</th>\n",
       "      <td>8565083</td>\n",
       "      <td>Cinderella Ate My Daughter: Dispatches from th...</td>\n",
       "    </tr>\n",
       "    <tr>\n",
       "      <th>9999</th>\n",
       "      <td>8914</td>\n",
       "      <td>The First World War</td>\n",
       "    </tr>\n",
       "  </tbody>\n",
       "</table>\n",
       "<p>10000 rows × 2 columns</p>\n",
       "</div>"
      ],
      "text/plain": [
       "      book_id                                              title\n",
       "0     2767052            The Hunger Games (The Hunger Games, #1)\n",
       "1           3  Harry Potter and the Sorcerer's Stone (Harry P...\n",
       "2       41865                            Twilight (Twilight, #1)\n",
       "3        2657                              To Kill a Mockingbird\n",
       "4        4671                                   The Great Gatsby\n",
       "...       ...                                                ...\n",
       "9995  7130616                          Bayou Moon (The Edge, #2)\n",
       "9996   208324  Means of Ascent (The Years of Lyndon Johnson, #2)\n",
       "9997    77431                              The Mauritius Command\n",
       "9998  8565083  Cinderella Ate My Daughter: Dispatches from th...\n",
       "9999     8914                                The First World War\n",
       "\n",
       "[10000 rows x 2 columns]"
      ]
     },
     "execution_count": 29,
     "metadata": {},
     "output_type": "execute_result"
    }
   ],
   "source": [
    "libros_zip = archivo_zip.open(\"goodbooks/books.csv\")\n",
    "libros = pd.read_csv(libros_zip, usecols = [\"book_id\", \"title\"])\n",
    "libros"
   ]
  },
  {
   "cell_type": "code",
   "execution_count": 30,
   "metadata": {},
   "outputs": [
    {
     "data": {
      "text/html": [
       "<div>\n",
       "<style scoped>\n",
       "    .dataframe tbody tr th:only-of-type {\n",
       "        vertical-align: middle;\n",
       "    }\n",
       "\n",
       "    .dataframe tbody tr th {\n",
       "        vertical-align: top;\n",
       "    }\n",
       "\n",
       "    .dataframe thead th {\n",
       "        text-align: right;\n",
       "    }\n",
       "</style>\n",
       "<table border=\"1\" class=\"dataframe\">\n",
       "  <thead>\n",
       "    <tr style=\"text-align: right;\">\n",
       "      <th></th>\n",
       "      <th>book_id</th>\n",
       "      <th>user_id</th>\n",
       "      <th>rating</th>\n",
       "    </tr>\n",
       "  </thead>\n",
       "  <tbody>\n",
       "    <tr>\n",
       "      <th>0</th>\n",
       "      <td>1</td>\n",
       "      <td>314</td>\n",
       "      <td>5</td>\n",
       "    </tr>\n",
       "    <tr>\n",
       "      <th>1</th>\n",
       "      <td>1</td>\n",
       "      <td>439</td>\n",
       "      <td>3</td>\n",
       "    </tr>\n",
       "    <tr>\n",
       "      <th>2</th>\n",
       "      <td>1</td>\n",
       "      <td>588</td>\n",
       "      <td>5</td>\n",
       "    </tr>\n",
       "    <tr>\n",
       "      <th>3</th>\n",
       "      <td>1</td>\n",
       "      <td>1169</td>\n",
       "      <td>4</td>\n",
       "    </tr>\n",
       "    <tr>\n",
       "      <th>4</th>\n",
       "      <td>1</td>\n",
       "      <td>1185</td>\n",
       "      <td>4</td>\n",
       "    </tr>\n",
       "    <tr>\n",
       "      <th>...</th>\n",
       "      <td>...</td>\n",
       "      <td>...</td>\n",
       "      <td>...</td>\n",
       "    </tr>\n",
       "    <tr>\n",
       "      <th>981751</th>\n",
       "      <td>10000</td>\n",
       "      <td>48386</td>\n",
       "      <td>5</td>\n",
       "    </tr>\n",
       "    <tr>\n",
       "      <th>981752</th>\n",
       "      <td>10000</td>\n",
       "      <td>49007</td>\n",
       "      <td>4</td>\n",
       "    </tr>\n",
       "    <tr>\n",
       "      <th>981753</th>\n",
       "      <td>10000</td>\n",
       "      <td>49383</td>\n",
       "      <td>5</td>\n",
       "    </tr>\n",
       "    <tr>\n",
       "      <th>981754</th>\n",
       "      <td>10000</td>\n",
       "      <td>50124</td>\n",
       "      <td>5</td>\n",
       "    </tr>\n",
       "    <tr>\n",
       "      <th>981755</th>\n",
       "      <td>10000</td>\n",
       "      <td>51328</td>\n",
       "      <td>1</td>\n",
       "    </tr>\n",
       "  </tbody>\n",
       "</table>\n",
       "<p>981756 rows × 3 columns</p>\n",
       "</div>"
      ],
      "text/plain": [
       "        book_id  user_id  rating\n",
       "0             1      314       5\n",
       "1             1      439       3\n",
       "2             1      588       5\n",
       "3             1     1169       4\n",
       "4             1     1185       4\n",
       "...         ...      ...     ...\n",
       "981751    10000    48386       5\n",
       "981752    10000    49007       4\n",
       "981753    10000    49383       5\n",
       "981754    10000    50124       5\n",
       "981755    10000    51328       1\n",
       "\n",
       "[981756 rows x 3 columns]"
      ]
     },
     "execution_count": 30,
     "metadata": {},
     "output_type": "execute_result"
    }
   ],
   "source": [
    "ratings"
   ]
  },
  {
   "cell_type": "code",
   "execution_count": 31,
   "metadata": {},
   "outputs": [
    {
     "data": {
      "text/plain": [
       "1         3\n",
       "2         3\n",
       "3         2\n",
       "4         3\n",
       "5         5\n",
       "         ..\n",
       "53420     6\n",
       "53421     8\n",
       "53422    18\n",
       "53423     2\n",
       "53424    16\n",
       "Name: user_id, Length: 53424, dtype: int64"
      ]
     },
     "execution_count": 31,
     "metadata": {},
     "output_type": "execute_result"
    }
   ],
   "source": [
    "ratings[\"user_id\"].value_counts().sort_index()"
   ]
  },
  {
   "cell_type": "code",
   "execution_count": 32,
   "metadata": {},
   "outputs": [],
   "source": [
    "ratings_usuario[\"user_id\"] = 53425"
   ]
  },
  {
   "cell_type": "code",
   "execution_count": 33,
   "metadata": {},
   "outputs": [
    {
     "data": {
      "text/plain": [
       "1        100\n",
       "2        100\n",
       "3        100\n",
       "4        100\n",
       "5        100\n",
       "        ... \n",
       "9996      98\n",
       "9997      89\n",
       "9998      95\n",
       "9999      99\n",
       "10000     96\n",
       "Name: book_id, Length: 10000, dtype: int64"
      ]
     },
     "execution_count": 33,
     "metadata": {},
     "output_type": "execute_result"
    }
   ],
   "source": [
    "ratings[\"book_id\"].value_counts().sort_index()"
   ]
  },
  {
   "cell_type": "code",
   "execution_count": 34,
   "metadata": {},
   "outputs": [
    {
     "data": {
      "text/plain": [
       "78"
      ]
     },
     "execution_count": 34,
     "metadata": {},
     "output_type": "execute_result"
    }
   ],
   "source": [
    "ratings_usuario[\"title_id\"].isna().sum()"
   ]
  },
  {
   "cell_type": "code",
   "execution_count": 35,
   "metadata": {},
   "outputs": [],
   "source": [
    "ratings_usuario.loc[ratings_usuario[\"title_id\"].isna(), \"title_id\"] = [10000+x for x in range(ratings_usuario[\"title_id\"].isna().sum())]"
   ]
  },
  {
   "cell_type": "code",
   "execution_count": 36,
   "metadata": {},
   "outputs": [],
   "source": [
    "ratings_usuario_filt = ratings_usuario[[\"title_id\", \"user_id\", \"rating\"]].rename(columns = {\"title_id\": \"book_id\"})"
   ]
  },
  {
   "cell_type": "code",
   "execution_count": 37,
   "metadata": {},
   "outputs": [
    {
     "data": {
      "text/html": [
       "<div>\n",
       "<style scoped>\n",
       "    .dataframe tbody tr th:only-of-type {\n",
       "        vertical-align: middle;\n",
       "    }\n",
       "\n",
       "    .dataframe tbody tr th {\n",
       "        vertical-align: top;\n",
       "    }\n",
       "\n",
       "    .dataframe thead th {\n",
       "        text-align: right;\n",
       "    }\n",
       "</style>\n",
       "<table border=\"1\" class=\"dataframe\">\n",
       "  <thead>\n",
       "    <tr style=\"text-align: right;\">\n",
       "      <th></th>\n",
       "      <th>book_id</th>\n",
       "      <th>user_id</th>\n",
       "      <th>rating</th>\n",
       "    </tr>\n",
       "  </thead>\n",
       "  <tbody>\n",
       "    <tr>\n",
       "      <th>0</th>\n",
       "      <td>1</td>\n",
       "      <td>314</td>\n",
       "      <td>5</td>\n",
       "    </tr>\n",
       "    <tr>\n",
       "      <th>1</th>\n",
       "      <td>1</td>\n",
       "      <td>439</td>\n",
       "      <td>3</td>\n",
       "    </tr>\n",
       "    <tr>\n",
       "      <th>2</th>\n",
       "      <td>1</td>\n",
       "      <td>588</td>\n",
       "      <td>5</td>\n",
       "    </tr>\n",
       "    <tr>\n",
       "      <th>3</th>\n",
       "      <td>1</td>\n",
       "      <td>1169</td>\n",
       "      <td>4</td>\n",
       "    </tr>\n",
       "    <tr>\n",
       "      <th>4</th>\n",
       "      <td>1</td>\n",
       "      <td>1185</td>\n",
       "      <td>4</td>\n",
       "    </tr>\n",
       "    <tr>\n",
       "      <th>...</th>\n",
       "      <td>...</td>\n",
       "      <td>...</td>\n",
       "      <td>...</td>\n",
       "    </tr>\n",
       "    <tr>\n",
       "      <th>981751</th>\n",
       "      <td>10000</td>\n",
       "      <td>48386</td>\n",
       "      <td>5</td>\n",
       "    </tr>\n",
       "    <tr>\n",
       "      <th>981752</th>\n",
       "      <td>10000</td>\n",
       "      <td>49007</td>\n",
       "      <td>4</td>\n",
       "    </tr>\n",
       "    <tr>\n",
       "      <th>981753</th>\n",
       "      <td>10000</td>\n",
       "      <td>49383</td>\n",
       "      <td>5</td>\n",
       "    </tr>\n",
       "    <tr>\n",
       "      <th>981754</th>\n",
       "      <td>10000</td>\n",
       "      <td>50124</td>\n",
       "      <td>5</td>\n",
       "    </tr>\n",
       "    <tr>\n",
       "      <th>981755</th>\n",
       "      <td>10000</td>\n",
       "      <td>51328</td>\n",
       "      <td>1</td>\n",
       "    </tr>\n",
       "  </tbody>\n",
       "</table>\n",
       "<p>981756 rows × 3 columns</p>\n",
       "</div>"
      ],
      "text/plain": [
       "        book_id  user_id  rating\n",
       "0             1      314       5\n",
       "1             1      439       3\n",
       "2             1      588       5\n",
       "3             1     1169       4\n",
       "4             1     1185       4\n",
       "...         ...      ...     ...\n",
       "981751    10000    48386       5\n",
       "981752    10000    49007       4\n",
       "981753    10000    49383       5\n",
       "981754    10000    50124       5\n",
       "981755    10000    51328       1\n",
       "\n",
       "[981756 rows x 3 columns]"
      ]
     },
     "execution_count": 37,
     "metadata": {},
     "output_type": "execute_result"
    }
   ],
   "source": [
    "ratings"
   ]
  },
  {
   "cell_type": "code",
   "execution_count": 38,
   "metadata": {},
   "outputs": [
    {
     "data": {
      "text/html": [
       "<div>\n",
       "<style scoped>\n",
       "    .dataframe tbody tr th:only-of-type {\n",
       "        vertical-align: middle;\n",
       "    }\n",
       "\n",
       "    .dataframe tbody tr th {\n",
       "        vertical-align: top;\n",
       "    }\n",
       "\n",
       "    .dataframe thead th {\n",
       "        text-align: right;\n",
       "    }\n",
       "</style>\n",
       "<table border=\"1\" class=\"dataframe\">\n",
       "  <thead>\n",
       "    <tr style=\"text-align: right;\">\n",
       "      <th></th>\n",
       "      <th>book_id</th>\n",
       "      <th>user_id</th>\n",
       "      <th>rating</th>\n",
       "    </tr>\n",
       "  </thead>\n",
       "  <tbody>\n",
       "    <tr>\n",
       "      <th>0</th>\n",
       "      <td>10000.0</td>\n",
       "      <td>53425</td>\n",
       "      <td>5</td>\n",
       "    </tr>\n",
       "    <tr>\n",
       "      <th>1</th>\n",
       "      <td>10001.0</td>\n",
       "      <td>53425</td>\n",
       "      <td>5</td>\n",
       "    </tr>\n",
       "    <tr>\n",
       "      <th>2</th>\n",
       "      <td>10002.0</td>\n",
       "      <td>53425</td>\n",
       "      <td>5</td>\n",
       "    </tr>\n",
       "    <tr>\n",
       "      <th>3</th>\n",
       "      <td>10003.0</td>\n",
       "      <td>53425</td>\n",
       "      <td>5</td>\n",
       "    </tr>\n",
       "    <tr>\n",
       "      <th>4</th>\n",
       "      <td>485894.0</td>\n",
       "      <td>53425</td>\n",
       "      <td>5</td>\n",
       "    </tr>\n",
       "    <tr>\n",
       "      <th>...</th>\n",
       "      <td>...</td>\n",
       "      <td>...</td>\n",
       "      <td>...</td>\n",
       "    </tr>\n",
       "    <tr>\n",
       "      <th>101</th>\n",
       "      <td>10073.0</td>\n",
       "      <td>53425</td>\n",
       "      <td>2</td>\n",
       "    </tr>\n",
       "    <tr>\n",
       "      <th>102</th>\n",
       "      <td>10074.0</td>\n",
       "      <td>53425</td>\n",
       "      <td>2</td>\n",
       "    </tr>\n",
       "    <tr>\n",
       "      <th>103</th>\n",
       "      <td>10075.0</td>\n",
       "      <td>53425</td>\n",
       "      <td>2</td>\n",
       "    </tr>\n",
       "    <tr>\n",
       "      <th>104</th>\n",
       "      <td>10076.0</td>\n",
       "      <td>53425</td>\n",
       "      <td>2</td>\n",
       "    </tr>\n",
       "    <tr>\n",
       "      <th>105</th>\n",
       "      <td>10077.0</td>\n",
       "      <td>53425</td>\n",
       "      <td>2</td>\n",
       "    </tr>\n",
       "  </tbody>\n",
       "</table>\n",
       "<p>106 rows × 3 columns</p>\n",
       "</div>"
      ],
      "text/plain": [
       "      book_id  user_id  rating\n",
       "0     10000.0    53425       5\n",
       "1     10001.0    53425       5\n",
       "2     10002.0    53425       5\n",
       "3     10003.0    53425       5\n",
       "4    485894.0    53425       5\n",
       "..        ...      ...     ...\n",
       "101   10073.0    53425       2\n",
       "102   10074.0    53425       2\n",
       "103   10075.0    53425       2\n",
       "104   10076.0    53425       2\n",
       "105   10077.0    53425       2\n",
       "\n",
       "[106 rows x 3 columns]"
      ]
     },
     "execution_count": 38,
     "metadata": {},
     "output_type": "execute_result"
    }
   ],
   "source": [
    "ratings_usuario_filt"
   ]
  },
  {
   "cell_type": "code",
   "execution_count": 39,
   "metadata": {},
   "outputs": [],
   "source": [
    "ratings_actualizada = pd.concat([ratings, ratings_usuario_filt]).reset_index(drop=True)"
   ]
  },
  {
   "cell_type": "code",
   "execution_count": 40,
   "metadata": {},
   "outputs": [
    {
     "data": {
      "text/html": [
       "<div>\n",
       "<style scoped>\n",
       "    .dataframe tbody tr th:only-of-type {\n",
       "        vertical-align: middle;\n",
       "    }\n",
       "\n",
       "    .dataframe tbody tr th {\n",
       "        vertical-align: top;\n",
       "    }\n",
       "\n",
       "    .dataframe thead th {\n",
       "        text-align: right;\n",
       "    }\n",
       "</style>\n",
       "<table border=\"1\" class=\"dataframe\">\n",
       "  <thead>\n",
       "    <tr style=\"text-align: right;\">\n",
       "      <th></th>\n",
       "      <th>book_id</th>\n",
       "      <th>user_id</th>\n",
       "      <th>rating</th>\n",
       "    </tr>\n",
       "  </thead>\n",
       "  <tbody>\n",
       "    <tr>\n",
       "      <th>0</th>\n",
       "      <td>1.0</td>\n",
       "      <td>314</td>\n",
       "      <td>5</td>\n",
       "    </tr>\n",
       "    <tr>\n",
       "      <th>1</th>\n",
       "      <td>1.0</td>\n",
       "      <td>439</td>\n",
       "      <td>3</td>\n",
       "    </tr>\n",
       "    <tr>\n",
       "      <th>2</th>\n",
       "      <td>1.0</td>\n",
       "      <td>588</td>\n",
       "      <td>5</td>\n",
       "    </tr>\n",
       "    <tr>\n",
       "      <th>3</th>\n",
       "      <td>1.0</td>\n",
       "      <td>1169</td>\n",
       "      <td>4</td>\n",
       "    </tr>\n",
       "    <tr>\n",
       "      <th>4</th>\n",
       "      <td>1.0</td>\n",
       "      <td>1185</td>\n",
       "      <td>4</td>\n",
       "    </tr>\n",
       "    <tr>\n",
       "      <th>...</th>\n",
       "      <td>...</td>\n",
       "      <td>...</td>\n",
       "      <td>...</td>\n",
       "    </tr>\n",
       "    <tr>\n",
       "      <th>981857</th>\n",
       "      <td>10073.0</td>\n",
       "      <td>53425</td>\n",
       "      <td>2</td>\n",
       "    </tr>\n",
       "    <tr>\n",
       "      <th>981858</th>\n",
       "      <td>10074.0</td>\n",
       "      <td>53425</td>\n",
       "      <td>2</td>\n",
       "    </tr>\n",
       "    <tr>\n",
       "      <th>981859</th>\n",
       "      <td>10075.0</td>\n",
       "      <td>53425</td>\n",
       "      <td>2</td>\n",
       "    </tr>\n",
       "    <tr>\n",
       "      <th>981860</th>\n",
       "      <td>10076.0</td>\n",
       "      <td>53425</td>\n",
       "      <td>2</td>\n",
       "    </tr>\n",
       "    <tr>\n",
       "      <th>981861</th>\n",
       "      <td>10077.0</td>\n",
       "      <td>53425</td>\n",
       "      <td>2</td>\n",
       "    </tr>\n",
       "  </tbody>\n",
       "</table>\n",
       "<p>981862 rows × 3 columns</p>\n",
       "</div>"
      ],
      "text/plain": [
       "        book_id  user_id  rating\n",
       "0           1.0      314       5\n",
       "1           1.0      439       3\n",
       "2           1.0      588       5\n",
       "3           1.0     1169       4\n",
       "4           1.0     1185       4\n",
       "...         ...      ...     ...\n",
       "981857  10073.0    53425       2\n",
       "981858  10074.0    53425       2\n",
       "981859  10075.0    53425       2\n",
       "981860  10076.0    53425       2\n",
       "981861  10077.0    53425       2\n",
       "\n",
       "[981862 rows x 3 columns]"
      ]
     },
     "execution_count": 40,
     "metadata": {},
     "output_type": "execute_result"
    }
   ],
   "source": [
    "ratings_actualizada"
   ]
  },
  {
   "cell_type": "code",
   "execution_count": 41,
   "metadata": {},
   "outputs": [],
   "source": [
    "import pyspark"
   ]
  },
  {
   "cell_type": "code",
   "execution_count": 42,
   "metadata": {},
   "outputs": [],
   "source": [
    "sc = pyspark.SparkContext(appName =\"clase_datos_masivos\")"
   ]
  },
  {
   "cell_type": "code",
   "execution_count": 43,
   "metadata": {},
   "outputs": [],
   "source": [
    "from pyspark.sql import SparkSession"
   ]
  },
  {
   "cell_type": "code",
   "execution_count": 44,
   "metadata": {},
   "outputs": [],
   "source": [
    "# local[*] usará todos los núcleos disponibles \n",
    "spark = SparkSession.builder\\\n",
    "                    .master('local[*]') \\\n",
    "                    .appName('first_spark') \\\n",
    "                    .getOrCreate()"
   ]
  },
  {
   "cell_type": "code",
   "execution_count": 45,
   "metadata": {},
   "outputs": [
    {
     "name": "stdout",
     "output_type": "stream",
     "text": [
      "<pyspark.sql.session.SparkSession object at 0x7fde964371f0>\n"
     ]
    }
   ],
   "source": [
    "print(spark)"
   ]
  },
  {
   "cell_type": "code",
   "execution_count": 46,
   "metadata": {},
   "outputs": [],
   "source": [
    "# Importar funciones\n",
    "from pyspark.ml.evaluation import RegressionEvaluator\n",
    "from pyspark.ml.recommendation import ALS\n",
    "from pyspark.ml.tuning import ParamGridBuilder, CrossValidator"
   ]
  },
  {
   "cell_type": "code",
   "execution_count": 47,
   "metadata": {},
   "outputs": [],
   "source": [
    "ratings = spark.createDataFrame(ratings_actualizada)"
   ]
  },
  {
   "cell_type": "code",
   "execution_count": 48,
   "metadata": {},
   "outputs": [
    {
     "name": "stdout",
     "output_type": "stream",
     "text": [
      "+-------+-------+------+\n",
      "|book_id|user_id|rating|\n",
      "+-------+-------+------+\n",
      "|    1.0|    314|     5|\n",
      "|    1.0|    439|     3|\n",
      "|    1.0|    588|     5|\n",
      "|    1.0|   1169|     4|\n",
      "|    1.0|   1185|     4|\n",
      "|    1.0|   2077|     4|\n",
      "|    1.0|   2487|     4|\n",
      "|    1.0|   2900|     5|\n",
      "|    1.0|   3662|     4|\n",
      "|    1.0|   3922|     5|\n",
      "|    1.0|   5379|     5|\n",
      "|    1.0|   5461|     3|\n",
      "|    1.0|   5885|     5|\n",
      "|    1.0|   6630|     5|\n",
      "|    1.0|   7563|     3|\n",
      "|    1.0|   9246|     1|\n",
      "|    1.0|  10140|     4|\n",
      "|    1.0|  10146|     5|\n",
      "|    1.0|  10246|     4|\n",
      "|    1.0|  10335|     4|\n",
      "+-------+-------+------+\n",
      "only showing top 20 rows\n",
      "\n"
     ]
    }
   ],
   "source": [
    "ratings.show()"
   ]
  },
  {
   "cell_type": "code",
   "execution_count": 49,
   "metadata": {},
   "outputs": [
    {
     "name": "stdout",
     "output_type": "stream",
     "text": [
      "root\n",
      " |-- user_id: integer (nullable = true)\n",
      " |-- book_id: integer (nullable = true)\n",
      " |-- rating: double (nullable = true)\n",
      "\n"
     ]
    }
   ],
   "source": [
    "# Convertir al tipo apropiado de datos\n",
    "ratings = ratings.select(ratings.user_id.cast(\"integer\"), ratings.book_id.cast(\"integer\"), ratings.rating.cast(\"double\"))\n",
    "\n",
    "# Revisar que se haya aplicado\n",
    "ratings.printSchema()"
   ]
  },
  {
   "cell_type": "code",
   "execution_count": 50,
   "metadata": {},
   "outputs": [],
   "source": [
    "ratings.createOrReplaceTempView(\"ratings\")"
   ]
  },
  {
   "cell_type": "code",
   "execution_count": 51,
   "metadata": {},
   "outputs": [
    {
     "data": {
      "text/plain": [
       "[Table(name='ratings', database=None, description=None, tableType='TEMPORARY', isTemporary=True)]"
      ]
     },
     "execution_count": 51,
     "metadata": {},
     "output_type": "execute_result"
    }
   ],
   "source": [
    "spark.catalog.listTables()"
   ]
  },
  {
   "cell_type": "code",
   "execution_count": 52,
   "metadata": {},
   "outputs": [
    {
     "name": "stdout",
     "output_type": "stream",
     "text": [
      "root\n",
      " |-- user_id: integer (nullable = true)\n",
      " |-- book_id: integer (nullable = true)\n",
      " |-- rating: double (nullable = true)\n",
      "\n"
     ]
    }
   ],
   "source": [
    "ratings.printSchema()"
   ]
  },
  {
   "cell_type": "code",
   "execution_count": 53,
   "metadata": {},
   "outputs": [],
   "source": [
    "# Crean tabla de entrenamiento y prueba\n",
    "(train, test) = ratings.randomSplit([0.75, 0.25], seed = 202012)"
   ]
  },
  {
   "cell_type": "code",
   "execution_count": 54,
   "metadata": {},
   "outputs": [],
   "source": [
    "als_1 = ALS(userCol=\"user_id\", itemCol=\"book_id\", ratingCol=\"rating\")"
   ]
  },
  {
   "cell_type": "code",
   "execution_count": 55,
   "metadata": {},
   "outputs": [],
   "source": [
    "modelo_1 = als_1.fit(train)"
   ]
  },
  {
   "cell_type": "code",
   "execution_count": 56,
   "metadata": {},
   "outputs": [],
   "source": [
    "predicciones_1 = modelo_1.transform(test)"
   ]
  },
  {
   "cell_type": "code",
   "execution_count": 57,
   "metadata": {},
   "outputs": [
    {
     "name": "stdout",
     "output_type": "stream",
     "text": [
      "+-------+-------+------+----------+\n",
      "|user_id|book_id|rating|prediction|\n",
      "+-------+-------+------+----------+\n",
      "|  10727|    148|   4.0|  3.717816|\n",
      "|  26629|    148|   4.0|   3.74888|\n",
      "|  28767|    148|   3.0|  3.025691|\n",
      "|   9165|    148|   3.0| 3.7544518|\n",
      "|  38475|    148|   4.0| 3.6370912|\n",
      "|   7001|    148|   4.0| 3.7668166|\n",
      "|  20967|    148|   3.0| 4.1432114|\n",
      "|  14603|    148|   4.0| 3.5522707|\n",
      "|  13407|    148|   4.0| 3.9852662|\n",
      "|  42404|    148|   5.0| 3.8055043|\n",
      "|   8440|    148|   3.0| 3.1180573|\n",
      "|   9125|    148|   1.0| 2.1694806|\n",
      "|   2171|    148|   4.0|  3.679798|\n",
      "|  38798|    148|   3.0| 3.3506374|\n",
      "|  24499|    148|   4.0|  2.851161|\n",
      "|  51838|    148|   4.0| 3.7141058|\n",
      "|  22602|    148|   3.0| 3.2579412|\n",
      "|  44397|    148|   5.0|  4.167453|\n",
      "|  47730|    148|   2.0|  4.044771|\n",
      "|  18031|    148|   5.0|  4.088013|\n",
      "+-------+-------+------+----------+\n",
      "only showing top 20 rows\n",
      "\n"
     ]
    }
   ],
   "source": [
    "predicciones_1.show()"
   ]
  },
  {
   "cell_type": "code",
   "execution_count": 58,
   "metadata": {},
   "outputs": [],
   "source": [
    "from pyspark.sql.functions import *\n",
    "from pyspark.sql.types import *"
   ]
  },
  {
   "cell_type": "code",
   "execution_count": 59,
   "metadata": {},
   "outputs": [
    {
     "name": "stdout",
     "output_type": "stream",
     "text": [
      "+------------------+\n",
      "|       avg(rating)|\n",
      "+------------------+\n",
      "|3.8535770792894777|\n",
      "+------------------+\n",
      "\n"
     ]
    }
   ],
   "source": [
    "predicciones_1.select(avg(\"rating\")).show()"
   ]
  },
  {
   "cell_type": "code",
   "execution_count": 60,
   "metadata": {},
   "outputs": [
    {
     "name": "stdout",
     "output_type": "stream",
     "text": [
      "+---------------+\n",
      "|avg(prediction)|\n",
      "+---------------+\n",
      "|            NaN|\n",
      "+---------------+\n",
      "\n"
     ]
    }
   ],
   "source": [
    "predicciones_1.select(avg(\"prediction\")).show()"
   ]
  },
  {
   "cell_type": "code",
   "execution_count": 61,
   "metadata": {},
   "outputs": [
    {
     "data": {
      "text/plain": [
       "245228"
      ]
     },
     "execution_count": 61,
     "metadata": {},
     "output_type": "execute_result"
    }
   ],
   "source": [
    "predicciones_1.select(\"prediction\").count()"
   ]
  },
  {
   "cell_type": "code",
   "execution_count": 62,
   "metadata": {},
   "outputs": [],
   "source": [
    "predicciones_1.createOrReplaceTempView(\"predicciones_1\")"
   ]
  },
  {
   "cell_type": "code",
   "execution_count": 63,
   "metadata": {},
   "outputs": [
    {
     "data": {
      "text/plain": [
       "[Table(name='predicciones_1', database=None, description=None, tableType='TEMPORARY', isTemporary=True),\n",
       " Table(name='ratings', database=None, description=None, tableType='TEMPORARY', isTemporary=True)]"
      ]
     },
     "execution_count": 63,
     "metadata": {},
     "output_type": "execute_result"
    }
   ],
   "source": [
    "spark.catalog.listTables()"
   ]
  },
  {
   "cell_type": "code",
   "execution_count": 64,
   "metadata": {},
   "outputs": [
    {
     "name": "stdout",
     "output_type": "stream",
     "text": [
      "+-------+-------+------+----------+\n",
      "|user_id|book_id|rating|prediction|\n",
      "+-------+-------+------+----------+\n",
      "|   5498|   9465|   5.0|       NaN|\n",
      "|  40724|   9852|   5.0|       NaN|\n",
      "|  35503|   3226|   3.0|       NaN|\n",
      "|  22379|   6393|   4.0|       NaN|\n",
      "|  10164|   6393|   4.0|       NaN|\n",
      "|  28450|   9182|   5.0|       NaN|\n",
      "|  53001|   9182|   5.0|       NaN|\n",
      "|  21522|   6559|   5.0|       NaN|\n",
      "|  51851|   9517|   5.0|       NaN|\n",
      "|  45929|   6598|   3.0|       NaN|\n",
      "|  42863|   7530|   4.0|       NaN|\n",
      "|  16033|   7910|   5.0|       NaN|\n",
      "|   8834|   8650|   4.0|       NaN|\n",
      "|  47271|   8650|   4.0|       NaN|\n",
      "|  10715|   8743|   4.0|       NaN|\n",
      "|  24443|   8743|   4.0|       NaN|\n",
      "|  13537|   8743|   3.0|       NaN|\n",
      "|  46438|   8779|   3.0|       NaN|\n",
      "|  27778|   9169|   2.0|       NaN|\n",
      "|  44276|   3377|   3.0|       NaN|\n",
      "+-------+-------+------+----------+\n",
      "only showing top 20 rows\n",
      "\n"
     ]
    }
   ],
   "source": [
    "query = \" select * from predicciones_1 where prediction = 'NaN' \"\n",
    "spark.sql(query).show()"
   ]
  },
  {
   "cell_type": "code",
   "execution_count": 65,
   "metadata": {},
   "outputs": [
    {
     "name": "stdout",
     "output_type": "stream",
     "text": [
      "+-------+-------+------+-------------+\n",
      "|user_id|book_id|rating|   prediction|\n",
      "+-------+-------+------+-------------+\n",
      "|  11759|   6089|   5.0|   -0.5707712|\n",
      "|  47325|   7636|   2.0|  -0.46481428|\n",
      "|  44657|   6940|   5.0|  -0.25109816|\n",
      "|  20460|   3075|   1.0|  -0.22632657|\n",
      "|  40603|   8956|   3.0|  -0.12147481|\n",
      "|  36949|   8748|   4.0|-0.0040562544|\n",
      "|  34475|   7063|   4.0| -0.003401041|\n",
      "|  51217|   9445|   5.0|  0.080078304|\n",
      "|   5145|   9086|   3.0|   0.08718853|\n",
      "|  50817|   9218|   1.0|   0.09673029|\n",
      "|  14509|   8336|   4.0|   0.19717786|\n",
      "|  12824|   7580|   5.0|   0.21134312|\n",
      "|  34036|   5373|   2.0|    0.2575391|\n",
      "|  17226|   8270|   5.0|    0.2629158|\n",
      "|  11759|   3224|   4.0|    0.2672944|\n",
      "|    448|   7735|   4.0|   0.27702954|\n",
      "|  20014|   6481|   2.0|   0.30908883|\n",
      "|  36165|   8617|   1.0|    0.3161653|\n",
      "|  29877|   6034|   5.0|   0.31727648|\n",
      "|   1582|   9967|   4.0|   0.33400908|\n",
      "+-------+-------+------+-------------+\n",
      "only showing top 20 rows\n",
      "\n"
     ]
    }
   ],
   "source": [
    "query = \" select * from predicciones_1 order by prediction \"\n",
    "spark.sql(query).show()"
   ]
  },
  {
   "cell_type": "code",
   "execution_count": 66,
   "metadata": {},
   "outputs": [
    {
     "name": "stdout",
     "output_type": "stream",
     "text": [
      "+-------+-------+------+----------+\n",
      "|user_id|book_id|rating|prediction|\n",
      "+-------+-------+------+----------+\n",
      "|  48129|   5919|   5.0|  5.861641|\n",
      "|  42047|   5919|   5.0| 5.8265243|\n",
      "|   8911|   6089|   5.0| 5.8110967|\n",
      "|  52469|    950|   5.0| 5.7814174|\n",
      "|  21058|   7945|   5.0|  5.771408|\n",
      "|  19171|    422|   5.0| 5.7588367|\n",
      "|  11413|   4649|   5.0| 5.7397003|\n",
      "|  37939|   1110|   5.0|  5.714551|\n",
      "|  26547|   7818|   5.0|  5.711295|\n",
      "|  51548|   5701|   5.0| 5.7024736|\n",
      "|  50138|   1684|   5.0| 5.6939664|\n",
      "|  18171|   9076|   5.0|  5.684693|\n",
      "|  40566|   1788|   5.0| 5.6772146|\n",
      "|  24744|   4911|   5.0| 5.6745973|\n",
      "|  38654|   2507|   5.0| 5.6739907|\n",
      "|  32852|   7834|   5.0|  5.672102|\n",
      "|  24048|   8109|   5.0| 5.6553354|\n",
      "|  34272|   6052|   5.0| 5.6474657|\n",
      "|  16384|   2729|   5.0| 5.6474204|\n",
      "|  35949|   3753|   5.0|   5.64336|\n",
      "+-------+-------+------+----------+\n",
      "only showing top 20 rows\n",
      "\n"
     ]
    }
   ],
   "source": [
    "query = \" select * from predicciones_1  where prediction <> 'NaN' order by prediction desc \"\n",
    "spark.sql(query).show()"
   ]
  },
  {
   "cell_type": "code",
   "execution_count": 67,
   "metadata": {},
   "outputs": [],
   "source": [
    "train.createOrReplaceTempView(\"train\")"
   ]
  },
  {
   "cell_type": "code",
   "execution_count": 68,
   "metadata": {},
   "outputs": [
    {
     "data": {
      "text/plain": [
       "[Table(name='predicciones_1', database=None, description=None, tableType='TEMPORARY', isTemporary=True),\n",
       " Table(name='ratings', database=None, description=None, tableType='TEMPORARY', isTemporary=True),\n",
       " Table(name='train', database=None, description=None, tableType='TEMPORARY', isTemporary=True)]"
      ]
     },
     "execution_count": 68,
     "metadata": {},
     "output_type": "execute_result"
    }
   ],
   "source": [
    "spark.catalog.listTables()"
   ]
  },
  {
   "cell_type": "code",
   "execution_count": 69,
   "metadata": {},
   "outputs": [
    {
     "name": "stdout",
     "output_type": "stream",
     "text": [
      "+-------+-------+------+\n",
      "|user_id|book_id|rating|\n",
      "+-------+-------+------+\n",
      "|  53425|      2|   5.0|\n",
      "|  53425|      5|   5.0|\n",
      "|  53425|    343|   5.0|\n",
      "|  53425|   4381|   5.0|\n",
      "|  53425|   9712|   5.0|\n",
      "|  53425|  10001|   5.0|\n",
      "|  53425|  10002|   5.0|\n",
      "|  53425|  10003|   5.0|\n",
      "|  53425|  10004|   5.0|\n",
      "|  53425|  10005|   5.0|\n",
      "|  53425|  10008|   5.0|\n",
      "|  53425|  10009|   5.0|\n",
      "|  53425|  10011|   5.0|\n",
      "|  53425|  10012|   5.0|\n",
      "|  53425|  10013|   5.0|\n",
      "|  53425|  10014|   5.0|\n",
      "|  53425|  10015|   5.0|\n",
      "|  53425|  10018|   5.0|\n",
      "|  53425|  10021|   5.0|\n",
      "|  53425|  10023|   5.0|\n",
      "+-------+-------+------+\n",
      "only showing top 20 rows\n",
      "\n"
     ]
    }
   ],
   "source": [
    "query = \" select * from train where user_id = 53425\"\n",
    "spark.sql(query).show()"
   ]
  },
  {
   "cell_type": "code",
   "execution_count": 70,
   "metadata": {},
   "outputs": [],
   "source": [
    "evaluator = RegressionEvaluator(metricName=\"rmse\", labelCol=\"rating\", predictionCol=\"prediction\")"
   ]
  },
  {
   "cell_type": "code",
   "execution_count": 71,
   "metadata": {},
   "outputs": [
    {
     "name": "stdout",
     "output_type": "stream",
     "text": [
      "nan\n"
     ]
    }
   ],
   "source": [
    "RMSE_1 = evaluator.evaluate(predicciones_1)\n",
    "print(RMSE_1)"
   ]
  },
  {
   "cell_type": "code",
   "execution_count": 72,
   "metadata": {},
   "outputs": [],
   "source": [
    "predicciones_pandas = predicciones_1.toPandas()"
   ]
  },
  {
   "cell_type": "code",
   "execution_count": 73,
   "metadata": {},
   "outputs": [
    {
     "data": {
      "text/html": [
       "<div>\n",
       "<style scoped>\n",
       "    .dataframe tbody tr th:only-of-type {\n",
       "        vertical-align: middle;\n",
       "    }\n",
       "\n",
       "    .dataframe tbody tr th {\n",
       "        vertical-align: top;\n",
       "    }\n",
       "\n",
       "    .dataframe thead th {\n",
       "        text-align: right;\n",
       "    }\n",
       "</style>\n",
       "<table border=\"1\" class=\"dataframe\">\n",
       "  <thead>\n",
       "    <tr style=\"text-align: right;\">\n",
       "      <th></th>\n",
       "      <th>user_id</th>\n",
       "      <th>book_id</th>\n",
       "      <th>rating</th>\n",
       "      <th>prediction</th>\n",
       "    </tr>\n",
       "  </thead>\n",
       "  <tbody>\n",
       "    <tr>\n",
       "      <th>0</th>\n",
       "      <td>10727</td>\n",
       "      <td>148</td>\n",
       "      <td>4.0</td>\n",
       "      <td>3.717816</td>\n",
       "    </tr>\n",
       "    <tr>\n",
       "      <th>1</th>\n",
       "      <td>26629</td>\n",
       "      <td>148</td>\n",
       "      <td>4.0</td>\n",
       "      <td>3.748880</td>\n",
       "    </tr>\n",
       "    <tr>\n",
       "      <th>2</th>\n",
       "      <td>28767</td>\n",
       "      <td>148</td>\n",
       "      <td>3.0</td>\n",
       "      <td>3.025691</td>\n",
       "    </tr>\n",
       "    <tr>\n",
       "      <th>3</th>\n",
       "      <td>9165</td>\n",
       "      <td>148</td>\n",
       "      <td>3.0</td>\n",
       "      <td>3.754452</td>\n",
       "    </tr>\n",
       "    <tr>\n",
       "      <th>4</th>\n",
       "      <td>38475</td>\n",
       "      <td>148</td>\n",
       "      <td>4.0</td>\n",
       "      <td>3.637091</td>\n",
       "    </tr>\n",
       "  </tbody>\n",
       "</table>\n",
       "</div>"
      ],
      "text/plain": [
       "   user_id  book_id  rating  prediction\n",
       "0    10727      148     4.0    3.717816\n",
       "1    26629      148     4.0    3.748880\n",
       "2    28767      148     3.0    3.025691\n",
       "3     9165      148     3.0    3.754452\n",
       "4    38475      148     4.0    3.637091"
      ]
     },
     "execution_count": 73,
     "metadata": {},
     "output_type": "execute_result"
    }
   ],
   "source": [
    "predicciones_pandas.head()"
   ]
  },
  {
   "cell_type": "code",
   "execution_count": 74,
   "metadata": {},
   "outputs": [
    {
     "data": {
      "text/html": [
       "<div>\n",
       "<style scoped>\n",
       "    .dataframe tbody tr th:only-of-type {\n",
       "        vertical-align: middle;\n",
       "    }\n",
       "\n",
       "    .dataframe tbody tr th {\n",
       "        vertical-align: top;\n",
       "    }\n",
       "\n",
       "    .dataframe thead th {\n",
       "        text-align: right;\n",
       "    }\n",
       "</style>\n",
       "<table border=\"1\" class=\"dataframe\">\n",
       "  <thead>\n",
       "    <tr style=\"text-align: right;\">\n",
       "      <th></th>\n",
       "      <th>user_id</th>\n",
       "      <th>book_id</th>\n",
       "      <th>rating</th>\n",
       "      <th>prediction</th>\n",
       "    </tr>\n",
       "  </thead>\n",
       "  <tbody>\n",
       "    <tr>\n",
       "      <th>63337</th>\n",
       "      <td>53425</td>\n",
       "      <td>3</td>\n",
       "      <td>5.0</td>\n",
       "      <td>3.412700</td>\n",
       "    </tr>\n",
       "    <tr>\n",
       "      <th>71711</th>\n",
       "      <td>53425</td>\n",
       "      <td>10000</td>\n",
       "      <td>5.0</td>\n",
       "      <td>4.207197</td>\n",
       "    </tr>\n",
       "  </tbody>\n",
       "</table>\n",
       "</div>"
      ],
      "text/plain": [
       "       user_id  book_id  rating  prediction\n",
       "63337    53425        3     5.0    3.412700\n",
       "71711    53425    10000     5.0    4.207197"
      ]
     },
     "execution_count": 74,
     "metadata": {},
     "output_type": "execute_result"
    }
   ],
   "source": [
    "predicciones_pandas[(predicciones_pandas[\"user_id\"] == 53425) & (predicciones_pandas[\"prediction\"].notnull())]"
   ]
  },
  {
   "cell_type": "code",
   "execution_count": 77,
   "metadata": {},
   "outputs": [],
   "source": [
    "als_2 = ALS(userCol=\"user_id\", itemCol=\"book_id\", ratingCol=\"rating\", rank =15, maxIter =20, regParam =0.1,\n",
    "          coldStartStrategy=\"drop\", nonnegative =True, implicitPrefs = False)"
   ]
  },
  {
   "cell_type": "code",
   "execution_count": 78,
   "metadata": {},
   "outputs": [],
   "source": [
    "# Generar modelo\n",
    "modelo_2 = als_2.fit(train)"
   ]
  },
  {
   "cell_type": "code",
   "execution_count": 79,
   "metadata": {},
   "outputs": [],
   "source": [
    "# Generar predicciones\n",
    "predicciones_2 = modelo_2.transform(test)"
   ]
  },
  {
   "cell_type": "code",
   "execution_count": 80,
   "metadata": {},
   "outputs": [
    {
     "name": "stdout",
     "output_type": "stream",
     "text": [
      "+-------+-------+------+----------+\n",
      "|user_id|book_id|rating|prediction|\n",
      "+-------+-------+------+----------+\n",
      "|  10727|    148|   4.0| 3.3814664|\n",
      "|  26629|    148|   4.0| 3.9016194|\n",
      "|  28767|    148|   3.0| 2.9804752|\n",
      "|   9165|    148|   3.0| 3.6830242|\n",
      "|  38475|    148|   4.0| 3.4808042|\n",
      "|   7001|    148|   4.0| 3.8477457|\n",
      "|  20967|    148|   3.0| 3.8371656|\n",
      "|  14603|    148|   4.0| 3.7016072|\n",
      "|  13407|    148|   4.0|  3.862438|\n",
      "|  42404|    148|   5.0| 3.8889074|\n",
      "|   8440|    148|   3.0|   2.97492|\n",
      "|   9125|    148|   1.0|  2.463397|\n",
      "|   2171|    148|   4.0|  3.555404|\n",
      "|  38798|    148|   3.0| 3.3011656|\n",
      "|  24499|    148|   4.0| 2.8905485|\n",
      "|  51838|    148|   4.0| 3.7496614|\n",
      "|  22602|    148|   3.0| 3.3443098|\n",
      "|  44397|    148|   5.0| 4.0911465|\n",
      "|  47730|    148|   2.0|  3.770562|\n",
      "|  18031|    148|   5.0|  4.024829|\n",
      "+-------+-------+------+----------+\n",
      "only showing top 20 rows\n",
      "\n"
     ]
    }
   ],
   "source": [
    "predicciones_2.show()"
   ]
  },
  {
   "cell_type": "code",
   "execution_count": 81,
   "metadata": {},
   "outputs": [],
   "source": [
    "predicciones_pandas2 = predicciones_2.toPandas()"
   ]
  },
  {
   "cell_type": "code",
   "execution_count": 82,
   "metadata": {},
   "outputs": [
    {
     "data": {
      "text/html": [
       "<div>\n",
       "<style scoped>\n",
       "    .dataframe tbody tr th:only-of-type {\n",
       "        vertical-align: middle;\n",
       "    }\n",
       "\n",
       "    .dataframe tbody tr th {\n",
       "        vertical-align: top;\n",
       "    }\n",
       "\n",
       "    .dataframe thead th {\n",
       "        text-align: right;\n",
       "    }\n",
       "</style>\n",
       "<table border=\"1\" class=\"dataframe\">\n",
       "  <thead>\n",
       "    <tr style=\"text-align: right;\">\n",
       "      <th></th>\n",
       "      <th>user_id</th>\n",
       "      <th>book_id</th>\n",
       "      <th>rating</th>\n",
       "      <th>prediction</th>\n",
       "    </tr>\n",
       "  </thead>\n",
       "  <tbody>\n",
       "    <tr>\n",
       "      <th>62978</th>\n",
       "      <td>53425</td>\n",
       "      <td>3</td>\n",
       "      <td>5.0</td>\n",
       "      <td>3.398588</td>\n",
       "    </tr>\n",
       "    <tr>\n",
       "      <th>71312</th>\n",
       "      <td>53425</td>\n",
       "      <td>10000</td>\n",
       "      <td>5.0</td>\n",
       "      <td>3.975679</td>\n",
       "    </tr>\n",
       "  </tbody>\n",
       "</table>\n",
       "</div>"
      ],
      "text/plain": [
       "       user_id  book_id  rating  prediction\n",
       "62978    53425        3     5.0    3.398588\n",
       "71312    53425    10000     5.0    3.975679"
      ]
     },
     "execution_count": 82,
     "metadata": {},
     "output_type": "execute_result"
    }
   ],
   "source": [
    "predicciones_pandas2[(predicciones_pandas2[\"user_id\"] == 53425) & (predicciones_pandas2[\"prediction\"].notnull())]"
   ]
  }
 ],
 "metadata": {
  "kernelspec": {
   "display_name": "Python 3",
   "language": "python",
   "name": "python3"
  },
  "language_info": {
   "codemirror_mode": {
    "name": "ipython",
    "version": 3
   },
   "file_extension": ".py",
   "mimetype": "text/x-python",
   "name": "python",
   "nbconvert_exporter": "python",
   "pygments_lexer": "ipython3",
   "version": "3.8.6"
  }
 },
 "nbformat": 4,
 "nbformat_minor": 4
}
