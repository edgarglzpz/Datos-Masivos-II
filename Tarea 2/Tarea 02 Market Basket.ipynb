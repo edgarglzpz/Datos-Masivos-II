{
 "cells": [
  {
   "cell_type": "markdown",
   "metadata": {
    "collapsed": true
   },
   "source": [
    "## Tarea 2 Reglas de Asociación"
   ]
  },
  {
   "cell_type": "markdown",
   "metadata": {
    "collapsed": true
   },
   "source": [
    "**Fecha de entrega: subir la tarea a su repositorio de github antes del lunes 8 de diciembre de 2020**"
   ]
  },
  {
   "cell_type": "markdown",
   "metadata": {
    "collapsed": true
   },
   "source": [
    "Utilizaremos datos de la Encuesta Nacional de Ingresos y Gastos de los Hogares (ENIGH). 2018 Nueva serie."
   ]
  },
  {
   "cell_type": "markdown",
   "metadata": {
    "collapsed": true
   },
   "source": [
    "> La Encuesta Nacional de Ingresos y Gastos de los Hogares 2018 se llevó a cabo del 21 de agosto al 28 de noviembre de 2018. Su objetivo es proporcionar un panorama estadístico del comportamiento de los ingresos y gastos de los hogares en cuanto a su monto, procedencia y distribución; adicionalmente, ofrece información sobre las características ocupacionales y sociodemográficas de los integrantes del hogar, así como las características de la infraestructura de la vivienda y el equipamiento del hogar"
   ]
  },
  {
   "cell_type": "markdown",
   "metadata": {
    "collapsed": true
   },
   "source": [
    "Para descargar los datos de la tarea  entrar  en la carpeta de datos del repositorio de la clase [datos enigh](https://github.com/leonardomarintellez/datos_masivos_II_2020/tree/master/datos/enigh)"
   ]
  },
  {
   "cell_type": "markdown",
   "metadata": {},
   "source": [
    "Los datos para la tarea constande 2 tablas, la tabla de gastos y la tabla de hogares. La primera incluye los gastos de los hogares y la segunda datos sociodemograficos de los hogares (notar que dentro de una vivienda puede haber más de un hogar)."
   ]
  },
  {
   "cell_type": "markdown",
   "metadata": {},
   "source": [
    "**Objetivo de la tarea**. Identificar reglas de asociación asociadas a ingresos altos de los hogares. Nota: Ustedes decidirán a partir de que valor se considera ingreso alto para un hogar"
   ]
  },
  {
   "cell_type": "markdown",
   "metadata": {
    "collapsed": true
   },
   "source": [
    "Si desean consultar mayor detalle de la encuesta ir al siguiente link [ENIGH](https://www.inegi.org.mx/programas/enigh/nc/2018/)"
   ]
  },
  {
   "cell_type": "code",
   "execution_count": 20,
   "metadata": {},
   "outputs": [],
   "source": [
    "# Librerías\n",
    "import pandas as pd\n",
    "import numpy as np"
   ]
  },
  {
   "cell_type": "code",
   "execution_count": 21,
   "metadata": {},
   "outputs": [
    {
     "data": {
      "text/html": [
       "<div>\n",
       "<style scoped>\n",
       "    .dataframe tbody tr th:only-of-type {\n",
       "        vertical-align: middle;\n",
       "    }\n",
       "\n",
       "    .dataframe tbody tr th {\n",
       "        vertical-align: top;\n",
       "    }\n",
       "\n",
       "    .dataframe thead th {\n",
       "        text-align: right;\n",
       "    }\n",
       "</style>\n",
       "<table border=\"1\" class=\"dataframe\">\n",
       "  <thead>\n",
       "    <tr style=\"text-align: right;\">\n",
       "      <th></th>\n",
       "      <th>folioviv</th>\n",
       "      <th>foliohog</th>\n",
       "      <th>gasto</th>\n",
       "    </tr>\n",
       "  </thead>\n",
       "  <tbody>\n",
       "    <tr>\n",
       "      <th>0</th>\n",
       "      <td>100013601</td>\n",
       "      <td>1</td>\n",
       "      <td>30.0</td>\n",
       "    </tr>\n",
       "    <tr>\n",
       "      <th>1</th>\n",
       "      <td>100013601</td>\n",
       "      <td>1</td>\n",
       "      <td>84.0</td>\n",
       "    </tr>\n",
       "    <tr>\n",
       "      <th>2</th>\n",
       "      <td>100013601</td>\n",
       "      <td>1</td>\n",
       "      <td>60.0</td>\n",
       "    </tr>\n",
       "    <tr>\n",
       "      <th>3</th>\n",
       "      <td>100013601</td>\n",
       "      <td>1</td>\n",
       "      <td>33.0</td>\n",
       "    </tr>\n",
       "    <tr>\n",
       "      <th>4</th>\n",
       "      <td>100013601</td>\n",
       "      <td>1</td>\n",
       "      <td>2400.0</td>\n",
       "    </tr>\n",
       "  </tbody>\n",
       "</table>\n",
       "</div>"
      ],
      "text/plain": [
       "    folioviv  foliohog   gasto\n",
       "0  100013601         1    30.0\n",
       "1  100013601         1    84.0\n",
       "2  100013601         1    60.0\n",
       "3  100013601         1    33.0\n",
       "4  100013601         1  2400.0"
      ]
     },
     "execution_count": 21,
     "metadata": {},
     "output_type": "execute_result"
    }
   ],
   "source": [
    "# Leer los datos de Gasto\n",
    "valores_missing = ['', ' ']\n",
    "gasto = pd.read_csv(\"conjunto_de_datos_gastoshogar_enigh_2018_ns.csv\", \\\n",
    "                    usecols= [0,1,14], na_values = valores_missing)\n",
    "gasto.head()"
   ]
  },
  {
   "cell_type": "code",
   "execution_count": 22,
   "metadata": {},
   "outputs": [
    {
     "data": {
      "text/plain": [
       "(1048575, 3)"
      ]
     },
     "execution_count": 22,
     "metadata": {},
     "output_type": "execute_result"
    }
   ],
   "source": [
    "gasto.shape"
   ]
  },
  {
   "cell_type": "markdown",
   "metadata": {},
   "source": [
    "Colapsar la información a nivel hogar"
   ]
  },
  {
   "cell_type": "code",
   "execution_count": 23,
   "metadata": {},
   "outputs": [
    {
     "data": {
      "text/html": [
       "<div>\n",
       "<style scoped>\n",
       "    .dataframe tbody tr th:only-of-type {\n",
       "        vertical-align: middle;\n",
       "    }\n",
       "\n",
       "    .dataframe tbody tr th {\n",
       "        vertical-align: top;\n",
       "    }\n",
       "\n",
       "    .dataframe thead tr th {\n",
       "        text-align: left;\n",
       "    }\n",
       "\n",
       "    .dataframe thead tr:last-of-type th {\n",
       "        text-align: right;\n",
       "    }\n",
       "</style>\n",
       "<table border=\"1\" class=\"dataframe\">\n",
       "  <thead>\n",
       "    <tr>\n",
       "      <th></th>\n",
       "      <th></th>\n",
       "      <th>gasto</th>\n",
       "    </tr>\n",
       "    <tr>\n",
       "      <th></th>\n",
       "      <th></th>\n",
       "      <th>sum</th>\n",
       "    </tr>\n",
       "    <tr>\n",
       "      <th>folioviv</th>\n",
       "      <th>foliohog</th>\n",
       "      <th></th>\n",
       "    </tr>\n",
       "  </thead>\n",
       "  <tbody>\n",
       "    <tr>\n",
       "      <th>100013601</th>\n",
       "      <th>1</th>\n",
       "      <td>2607.0</td>\n",
       "    </tr>\n",
       "    <tr>\n",
       "      <th>100013602</th>\n",
       "      <th>1</th>\n",
       "      <td>23696.0</td>\n",
       "    </tr>\n",
       "    <tr>\n",
       "      <th>100013603</th>\n",
       "      <th>1</th>\n",
       "      <td>38780.0</td>\n",
       "    </tr>\n",
       "    <tr>\n",
       "      <th>100013604</th>\n",
       "      <th>1</th>\n",
       "      <td>7428.0</td>\n",
       "    </tr>\n",
       "    <tr>\n",
       "      <th>100013606</th>\n",
       "      <th>1</th>\n",
       "      <td>2547.0</td>\n",
       "    </tr>\n",
       "  </tbody>\n",
       "</table>\n",
       "</div>"
      ],
      "text/plain": [
       "                      gasto\n",
       "                        sum\n",
       "folioviv  foliohog         \n",
       "100013601 1          2607.0\n",
       "100013602 1         23696.0\n",
       "100013603 1         38780.0\n",
       "100013604 1          7428.0\n",
       "100013606 1          2547.0"
      ]
     },
     "execution_count": 23,
     "metadata": {},
     "output_type": "execute_result"
    }
   ],
   "source": [
    "# Colapsar la info a nivel hogar\n",
    "gasto_x_hogar =gasto.groupby(['folioviv','foliohog']).agg({'gasto':['sum']})\n",
    "gasto_x_hogar.head()"
   ]
  },
  {
   "cell_type": "code",
   "execution_count": 24,
   "metadata": {},
   "outputs": [
    {
     "data": {
      "text/plain": [
       "(44250, 1)"
      ]
     },
     "execution_count": 24,
     "metadata": {},
     "output_type": "execute_result"
    }
   ],
   "source": [
    "gasto_x_hogar.shape"
   ]
  },
  {
   "cell_type": "markdown",
   "metadata": {},
   "source": [
    "Crear variable indicadora para determinar un 'ingreso alto' de un hogar. Esto usualmente va alineado con las reglas del negocio o el problema que estás resolviendo "
   ]
  },
  {
   "cell_type": "markdown",
   "metadata": {},
   "source": [
    "**Definir valor para ingreso alto**. Enuncia el porque de tu valor o incluye la referencia si utilizaste alguna"
   ]
  },
  {
   "cell_type": "code",
   "execution_count": 25,
   "metadata": {},
   "outputs": [],
   "source": [
    "# Incluye tu justificación para el ingreso aquí"
   ]
  },
  {
   "cell_type": "markdown",
   "metadata": {},
   "source": [
    "Como primer acercamiento, se proponía utilizar el rango interquatilico para detectar outliers, esto quiere decir que las observaciones que se encuentren fuera de $Q_{3} + 1.5IQR$, será denominado como \"ingreso alto\", sin embargo, se decidió dejar los valores que superaran el $Q_{3}$ porque este punto de corte considero que agrupo mejor en las dos categorías. \n",
    "\n",
    "En primer lugar, vamos a graficar nuestros valores en una gráfica de \"caja y bigotes\", esto nos permitirá darnos una idea de manera visual cuantas observaciones están por afuera."
   ]
  },
  {
   "cell_type": "code",
   "execution_count": 26,
   "metadata": {},
   "outputs": [
    {
     "data": {
      "image/png": "[encoded data removed]",
      "text/plain": [
       "<Figure size 432x288 with 1 Axes>"
      ]
     },
     "metadata": {
      "needs_background": "light"
     },
     "output_type": "display_data"
    }
   ],
   "source": [
    "import matplotlib.pyplot as plt\n",
    "df = gasto_x_hogar.copy()\n",
    "df = df.reset_index(drop=True)\n",
    "df.columns = df.columns.droplevel()\n",
    "df.boxplot()\n",
    "plt.ylabel(\"Gasto por hogar\")\n",
    "plt.show()"
   ]
  },
  {
   "cell_type": "code",
   "execution_count": 27,
   "metadata": {},
   "outputs": [
    {
     "data": {
      "image/png": "[encoded data removed]",
      "text/plain": [
       "<Figure size 432x288 with 1 Axes>"
      ]
     },
     "metadata": {
      "needs_background": "light"
     },
     "output_type": "display_data"
    }
   ],
   "source": [
    "df.hist(bins=100)\n",
    "plt.show()"
   ]
  },
  {
   "cell_type": "code",
   "execution_count": 28,
   "metadata": {},
   "outputs": [],
   "source": [
    "arr = df[\"sum\"].to_numpy()"
   ]
  },
  {
   "cell_type": "code",
   "execution_count": 29,
   "metadata": {},
   "outputs": [
    {
     "name": "stdout",
     "output_type": "stream",
     "text": [
      "La mediana es:  4708.0\n",
      "Q1: 2101.25\n",
      "Q3: 10842.75\n",
      "El rango interquatilico es:  8741.5\n",
      "El máximo es:  23955.0\n"
     ]
    }
   ],
   "source": [
    "import numpy as np\n",
    "mediana = np.quantile(arr, q=0.5)\n",
    "Q1 = np.quantile(arr, q=0.25)\n",
    "Q3 = np.quantile(arr, q=0.75)\n",
    "Rango_IQ = Q3 - Q1\n",
    "Minimo = Q1 - (1.5*Rango_IQ)\n",
    "Maximo = Q3 + (1.5*Rango_IQ)\n",
    "print(\"La mediana es: \", mediana) \n",
    "print(\"Q1:\", Q1)\n",
    "print(\"Q3:\", Q3)\n",
    "print(\"El rango interquatilico es: \", Rango_IQ)\n",
    "print(\"El máximo es: \", Maximo)"
   ]
  },
  {
   "cell_type": "code",
   "execution_count": 30,
   "metadata": {},
   "outputs": [
    {
     "data": {
      "image/png": "[encoded data removed]",
      "text/plain": [
       "<Figure size 432x288 with 1 Axes>"
      ]
     },
     "metadata": {
      "needs_background": "light"
     },
     "output_type": "display_data"
    }
   ],
   "source": [
    "df[df[\"sum\"] < Q3].hist()\n",
    "plt.show()"
   ]
  },
  {
   "cell_type": "markdown",
   "metadata": {},
   "source": [
    "Nota:"
   ]
  },
  {
   "cell_type": "code",
   "execution_count": 31,
   "metadata": {},
   "outputs": [],
   "source": [
    "ingreso_alto = Q3 #Ingresar tu valor de ingreso alto aquí"
   ]
  },
  {
   "cell_type": "code",
   "execution_count": 32,
   "metadata": {},
   "outputs": [],
   "source": [
    "gasto_x_hogar['ingreso_alto'] = gasto_x_hogar['gasto']['sum'].map(lambda x: x > ingreso_alto)\n",
    "# Borrar la variable gasto\n",
    "del gasto_x_hogar['gasto']"
   ]
  },
  {
   "cell_type": "code",
   "execution_count": 33,
   "metadata": {},
   "outputs": [
    {
     "name": "stdout",
     "output_type": "stream",
     "text": [
      "<class 'pandas.core.frame.DataFrame'>\n",
      "MultiIndex: 44250 entries, (100013601, 1) to (1909929214, 1)\n",
      "Data columns (total 1 columns):\n",
      " #   Column            Non-Null Count  Dtype\n",
      "---  ------            --------------  -----\n",
      " 0   (ingreso_alto, )  44250 non-null  bool \n",
      "dtypes: bool(1)\n",
      "memory usage: 599.6 KB\n"
     ]
    }
   ],
   "source": [
    "gasto_x_hogar.info()"
   ]
  },
  {
   "cell_type": "code",
   "execution_count": 34,
   "metadata": {},
   "outputs": [],
   "source": [
    "# Hacer el aggregate de la info generó vaiables multinivel por ello se reasignó el nombre de las columnas\n",
    "# gasto_x_hogar.columns = ['foliohog', 'folioviv', 'ingreso_alto']\n",
    "gasto_x_hogar.columns = ['ingreso_alto']"
   ]
  },
  {
   "cell_type": "code",
   "execution_count": 35,
   "metadata": {},
   "outputs": [
    {
     "data": {
      "text/html": [
       "<div>\n",
       "<style scoped>\n",
       "    .dataframe tbody tr th:only-of-type {\n",
       "        vertical-align: middle;\n",
       "    }\n",
       "\n",
       "    .dataframe tbody tr th {\n",
       "        vertical-align: top;\n",
       "    }\n",
       "\n",
       "    .dataframe thead th {\n",
       "        text-align: right;\n",
       "    }\n",
       "</style>\n",
       "<table border=\"1\" class=\"dataframe\">\n",
       "  <thead>\n",
       "    <tr style=\"text-align: right;\">\n",
       "      <th></th>\n",
       "      <th></th>\n",
       "      <th>ingreso_alto</th>\n",
       "    </tr>\n",
       "    <tr>\n",
       "      <th>folioviv</th>\n",
       "      <th>foliohog</th>\n",
       "      <th></th>\n",
       "    </tr>\n",
       "  </thead>\n",
       "  <tbody>\n",
       "    <tr>\n",
       "      <th>100013601</th>\n",
       "      <th>1</th>\n",
       "      <td>False</td>\n",
       "    </tr>\n",
       "    <tr>\n",
       "      <th>100013602</th>\n",
       "      <th>1</th>\n",
       "      <td>True</td>\n",
       "    </tr>\n",
       "    <tr>\n",
       "      <th>100013603</th>\n",
       "      <th>1</th>\n",
       "      <td>True</td>\n",
       "    </tr>\n",
       "    <tr>\n",
       "      <th>100013604</th>\n",
       "      <th>1</th>\n",
       "      <td>False</td>\n",
       "    </tr>\n",
       "    <tr>\n",
       "      <th>100013606</th>\n",
       "      <th>1</th>\n",
       "      <td>False</td>\n",
       "    </tr>\n",
       "    <tr>\n",
       "      <th>100026701</th>\n",
       "      <th>1</th>\n",
       "      <td>False</td>\n",
       "    </tr>\n",
       "    <tr>\n",
       "      <th>100026703</th>\n",
       "      <th>1</th>\n",
       "      <td>True</td>\n",
       "    </tr>\n",
       "    <tr>\n",
       "      <th>100026704</th>\n",
       "      <th>1</th>\n",
       "      <td>True</td>\n",
       "    </tr>\n",
       "    <tr>\n",
       "      <th>100026706</th>\n",
       "      <th>1</th>\n",
       "      <td>False</td>\n",
       "    </tr>\n",
       "    <tr>\n",
       "      <th>100027201</th>\n",
       "      <th>1</th>\n",
       "      <td>True</td>\n",
       "    </tr>\n",
       "  </tbody>\n",
       "</table>\n",
       "</div>"
      ],
      "text/plain": [
       "                    ingreso_alto\n",
       "folioviv  foliohog              \n",
       "100013601 1                False\n",
       "100013602 1                 True\n",
       "100013603 1                 True\n",
       "100013604 1                False\n",
       "100013606 1                False\n",
       "100026701 1                False\n",
       "100026703 1                 True\n",
       "100026704 1                 True\n",
       "100026706 1                False\n",
       "100027201 1                 True"
      ]
     },
     "execution_count": 35,
     "metadata": {},
     "output_type": "execute_result"
    }
   ],
   "source": [
    "gasto_x_hogar.head(10)"
   ]
  },
  {
   "cell_type": "code",
   "execution_count": 36,
   "metadata": {},
   "outputs": [
    {
     "data": {
      "text/plain": [
       "False    0.749989\n",
       "True     0.250011\n",
       "Name: ingreso_alto, dtype: float64"
      ]
     },
     "execution_count": 36,
     "metadata": {},
     "output_type": "execute_result"
    }
   ],
   "source": [
    "gasto_x_hogar[\"ingreso_alto\"].value_counts()/gasto_x_hogar.shape[0]"
   ]
  },
  {
   "cell_type": "markdown",
   "metadata": {},
   "source": [
    "Sólo utilizaremos ciertas variables de la tabla de hogares. El detalle de las variables de la tabla de hogares puede ser cnsultado en el diccionario de datos ubicado en la carpeta de los datos"
   ]
  },
  {
   "cell_type": "markdown",
   "metadata": {},
   "source": [
    "Las variables autilizar son:\n",
    "\n",
    "- folioviv: Identificador de la vivienda compuesto por dos dígitos con la clave de la entidad federativa, uno con el ámbito (urbano, código diferente a 6; rural, código 6), cuatro dígitos del número consecutivo de la upm, un dígito de la decena de levantamiento y dos dígitos con un número consecutivo para la vivienda seleccionada.\n",
    "- foliohog:\tEl código 1 identifica al hogar principal y del 2 al 5 los hogares adicionales.\n",
    "- alim17_1:\tNúmero de días que comieron alimentos hechos de maíz, trigo, arroz, avena, salvado, etcétera, durante la última semana.\n",
    "- alim17_2:\tNúmero de días que comieron alimentos provenientes de raíces o tubérculos, durante la última semana.\n",
    "- alim17_3:\tNúmero de días que comieron verduras durante la última semana.\n",
    "- alim17_4:\tNúmero de días que comieron frutas durante la última semana.\n",
    "- alim17_5:\tNúmero de días que comieron carne durante la última semana.\n",
    "- alim17_6:\tNúmero de días que comieron huevo durante la última semana.\n",
    "- alim17_7:\tNúmero de días que comieron pescado o mariscos durante la última semana.\n",
    "- alim17_8:\tNúmero de días que comieron leguminosas o semillas durante la última semana.\n",
    "- alim17_9:\tNúmero de días que comieron productos lácteos durante la última semana.\n",
    "- alim17_10:\tNúmero de días que comieron aceites o grasas durante la última semana.\n",
    "- alim17_11:\tNúmero de días que comieron azúcar o mieles durante la última semana.\n",
    "- alim17_12:\tNúmero de días que comieron otros alimentos como condimentos, café, té durante la última semana.\n",
    "\n",
    "- telefono:\tServicio de línea telefónica en el hogar ya sea con instalación alámbrica o satelital (antena). \n",
    "- celular:\tHogares que cuentan con el servicio de teléfono móvil aunque sea un sólo integrante del hogar.\n",
    "- tv_paga:\tHogares que cuentan con los servicios de televisión por pago, considerando que el servicio está en funcionamiento.\n",
    "- conex_inte:\tHogares que cuentan con el servicio de línea telefónica, tarjeta prepagada o telecable.\n",
    "\n",
    "- num_auto:\tNúmero de automóviles con los que cuenta el hogar.\n",
    "- num_van:\tNúmero de camionetas cerradas o con cabina (van o minivan) con las que cuenta el hogar.\n",
    "- num_pickup:\tNúmero de camionetas con caja con las que cuenta el hogar.\n",
    "- num_moto:\tNúmero de motocicletas o motonetas con las que cuenta el hogar.\n",
    "- num_bici:\tNúmero de bicicletas que se utilicen como medio de transporte en el hogar.\n",
    "- num_trici:\tNúmero de triciclos que se utilicen como medio de transporte en el hogar.\n",
    "- num_carret:\tNúmero de carretas, calandrias u otros vehículos de tracción animal con los que cuenta el hogar.\n",
    "- num_canoa:\tNúmero de canoas, lanchas, trajineras u otros vehículos para navegar con los que cuenta el hogar.\n",
    "- num_otro:\tNúmero de otro tipo de vehículos con los que cuenta el hogar.\n",
    "- num_ester:\tNúmero de estéreos, modulares o minicomponentes con los que cuenta el hogar.\n",
    "- num_grab:\tNúmero de grabadoras con las que cuenta el hogar.\n",
    "- num_radio:\tNúmero de radios con las que cuenta el hogar.\n",
    "- num_tva:\tNúmero de televisores analógicos con los que cuenta el hogar.\n",
    "- num_tvd:\tNúmero de televisores digitales con los que cuenta el hogar.\n",
    "- num_dvd:\tNúmero de DVDs, Blu-ray (reproductores de discos de video) con los que cuenta el hogar.\n",
    "- num_video:\tNúmero de videocaseteras con las que cuenta el hogar.\n",
    "- num_licua:\tNúmero de licuadoras con las que cuenta el hogar.\n",
    "- num_tosta:\tNúmero de tostadores con los que cuenta el hogar.\n",
    "- num_micro:\tNúmero de hornos de microondas con los que cuenta el hogar.\n",
    "- num_refri:\tNúmero de refrigeradores con los que cuenta el hogar.\n",
    "- num_estuf:\tNúmero de estufas de gas o eléctricas con las que cuenta el hogar.\n",
    "- num_lavad:\tNúmero de lavadoras con las que cuenta el hogar.\n",
    "- num_planc:\tNúmero de planchas eléctricas con las que cuenta el hogar.\n",
    "- num_maqui:\tNúmero de máquinas de coser con las que cuenta el hogar.\n",
    "- num_venti:\tNúmero de ventiladores con los que cuenta el hogar.\n",
    "- num_aspir:\tNúmero de aspiradoras con las que cuenta el hogar.\n",
    "- num_compu:\tNúmero de computadoras con las que cuenta el hogar.\n",
    "- num_impre:\tNúmero de impresoras con las que cuenta el hogar.\n",
    "- num_juego:\tNúmero de videojuegos (Wii, Playstation, Xbox, otros) con los que cuenta el hogar.\n"
   ]
  },
  {
   "cell_type": "code",
   "execution_count": 37,
   "metadata": {
    "scrolled": true
   },
   "outputs": [
    {
     "data": {
      "text/html": [
       "<div>\n",
       "<style scoped>\n",
       "    .dataframe tbody tr th:only-of-type {\n",
       "        vertical-align: middle;\n",
       "    }\n",
       "\n",
       "    .dataframe tbody tr th {\n",
       "        vertical-align: top;\n",
       "    }\n",
       "\n",
       "    .dataframe thead th {\n",
       "        text-align: right;\n",
       "    }\n",
       "</style>\n",
       "<table border=\"1\" class=\"dataframe\">\n",
       "  <thead>\n",
       "    <tr style=\"text-align: right;\">\n",
       "      <th></th>\n",
       "      <th></th>\n",
       "      <th>alim17_1</th>\n",
       "      <th>alim17_2</th>\n",
       "      <th>alim17_3</th>\n",
       "      <th>alim17_4</th>\n",
       "      <th>alim17_5</th>\n",
       "      <th>alim17_6</th>\n",
       "      <th>alim17_7</th>\n",
       "      <th>alim17_8</th>\n",
       "      <th>alim17_9</th>\n",
       "      <th>alim17_10</th>\n",
       "      <th>...</th>\n",
       "      <th>num_refri</th>\n",
       "      <th>num_estuf</th>\n",
       "      <th>num_lavad</th>\n",
       "      <th>num_planc</th>\n",
       "      <th>num_maqui</th>\n",
       "      <th>num_venti</th>\n",
       "      <th>num_aspir</th>\n",
       "      <th>num_compu</th>\n",
       "      <th>num_impre</th>\n",
       "      <th>num_juego</th>\n",
       "    </tr>\n",
       "    <tr>\n",
       "      <th>folioviv</th>\n",
       "      <th>foliohog</th>\n",
       "      <th></th>\n",
       "      <th></th>\n",
       "      <th></th>\n",
       "      <th></th>\n",
       "      <th></th>\n",
       "      <th></th>\n",
       "      <th></th>\n",
       "      <th></th>\n",
       "      <th></th>\n",
       "      <th></th>\n",
       "      <th></th>\n",
       "      <th></th>\n",
       "      <th></th>\n",
       "      <th></th>\n",
       "      <th></th>\n",
       "      <th></th>\n",
       "      <th></th>\n",
       "      <th></th>\n",
       "      <th></th>\n",
       "      <th></th>\n",
       "      <th></th>\n",
       "    </tr>\n",
       "  </thead>\n",
       "  <tbody>\n",
       "    <tr>\n",
       "      <th>100013601</th>\n",
       "      <th>1</th>\n",
       "      <td>7</td>\n",
       "      <td>1</td>\n",
       "      <td>7</td>\n",
       "      <td>7</td>\n",
       "      <td>4</td>\n",
       "      <td>7</td>\n",
       "      <td>1</td>\n",
       "      <td>7</td>\n",
       "      <td>7</td>\n",
       "      <td>7</td>\n",
       "      <td>...</td>\n",
       "      <td>1.0</td>\n",
       "      <td>1.0</td>\n",
       "      <td>1.0</td>\n",
       "      <td>1.0</td>\n",
       "      <td>1</td>\n",
       "      <td>1.0</td>\n",
       "      <td>1</td>\n",
       "      <td>1</td>\n",
       "      <td>0</td>\n",
       "      <td>0</td>\n",
       "    </tr>\n",
       "    <tr>\n",
       "      <th>100013602</th>\n",
       "      <th>1</th>\n",
       "      <td>7</td>\n",
       "      <td>3</td>\n",
       "      <td>4</td>\n",
       "      <td>3</td>\n",
       "      <td>3</td>\n",
       "      <td>2</td>\n",
       "      <td>0</td>\n",
       "      <td>5</td>\n",
       "      <td>7</td>\n",
       "      <td>5</td>\n",
       "      <td>...</td>\n",
       "      <td>1.0</td>\n",
       "      <td>1.0</td>\n",
       "      <td>1.0</td>\n",
       "      <td>1.0</td>\n",
       "      <td>1</td>\n",
       "      <td>1.0</td>\n",
       "      <td>1</td>\n",
       "      <td>2</td>\n",
       "      <td>1</td>\n",
       "      <td>1</td>\n",
       "    </tr>\n",
       "    <tr>\n",
       "      <th>100013603</th>\n",
       "      <th>1</th>\n",
       "      <td>4</td>\n",
       "      <td>2</td>\n",
       "      <td>5</td>\n",
       "      <td>4</td>\n",
       "      <td>5</td>\n",
       "      <td>3</td>\n",
       "      <td>2</td>\n",
       "      <td>2</td>\n",
       "      <td>3</td>\n",
       "      <td>4</td>\n",
       "      <td>...</td>\n",
       "      <td>1.0</td>\n",
       "      <td>1.0</td>\n",
       "      <td>1.0</td>\n",
       "      <td>1.0</td>\n",
       "      <td>0</td>\n",
       "      <td>1.0</td>\n",
       "      <td>0</td>\n",
       "      <td>1</td>\n",
       "      <td>0</td>\n",
       "      <td>0</td>\n",
       "    </tr>\n",
       "    <tr>\n",
       "      <th>100013604</th>\n",
       "      <th>1</th>\n",
       "      <td>7</td>\n",
       "      <td>3</td>\n",
       "      <td>7</td>\n",
       "      <td>7</td>\n",
       "      <td>4</td>\n",
       "      <td>7</td>\n",
       "      <td>1</td>\n",
       "      <td>5</td>\n",
       "      <td>2</td>\n",
       "      <td>7</td>\n",
       "      <td>...</td>\n",
       "      <td>1.0</td>\n",
       "      <td>1.0</td>\n",
       "      <td>1.0</td>\n",
       "      <td>1.0</td>\n",
       "      <td>1</td>\n",
       "      <td>5.0</td>\n",
       "      <td>0</td>\n",
       "      <td>0</td>\n",
       "      <td>0</td>\n",
       "      <td>0</td>\n",
       "    </tr>\n",
       "    <tr>\n",
       "      <th>100013606</th>\n",
       "      <th>1</th>\n",
       "      <td>7</td>\n",
       "      <td>1</td>\n",
       "      <td>1</td>\n",
       "      <td>7</td>\n",
       "      <td>3</td>\n",
       "      <td>7</td>\n",
       "      <td>0</td>\n",
       "      <td>2</td>\n",
       "      <td>7</td>\n",
       "      <td>7</td>\n",
       "      <td>...</td>\n",
       "      <td>1.0</td>\n",
       "      <td>1.0</td>\n",
       "      <td>1.0</td>\n",
       "      <td>1.0</td>\n",
       "      <td>0</td>\n",
       "      <td>0.0</td>\n",
       "      <td>0</td>\n",
       "      <td>0</td>\n",
       "      <td>0</td>\n",
       "      <td>0</td>\n",
       "    </tr>\n",
       "  </tbody>\n",
       "</table>\n",
       "<p>5 rows × 45 columns</p>\n",
       "</div>"
      ],
      "text/plain": [
       "                    alim17_1  alim17_2  alim17_3  alim17_4  alim17_5  \\\n",
       "folioviv  foliohog                                                     \n",
       "100013601 1                7         1         7         7         4   \n",
       "100013602 1                7         3         4         3         3   \n",
       "100013603 1                4         2         5         4         5   \n",
       "100013604 1                7         3         7         7         4   \n",
       "100013606 1                7         1         1         7         3   \n",
       "\n",
       "                    alim17_6  alim17_7  alim17_8  alim17_9  alim17_10  ...  \\\n",
       "folioviv  foliohog                                                     ...   \n",
       "100013601 1                7         1         7         7          7  ...   \n",
       "100013602 1                2         0         5         7          5  ...   \n",
       "100013603 1                3         2         2         3          4  ...   \n",
       "100013604 1                7         1         5         2          7  ...   \n",
       "100013606 1                7         0         2         7          7  ...   \n",
       "\n",
       "                    num_refri  num_estuf  num_lavad  num_planc  num_maqui  \\\n",
       "folioviv  foliohog                                                          \n",
       "100013601 1               1.0        1.0        1.0        1.0          1   \n",
       "100013602 1               1.0        1.0        1.0        1.0          1   \n",
       "100013603 1               1.0        1.0        1.0        1.0          0   \n",
       "100013604 1               1.0        1.0        1.0        1.0          1   \n",
       "100013606 1               1.0        1.0        1.0        1.0          0   \n",
       "\n",
       "                    num_venti  num_aspir  num_compu  num_impre  num_juego  \n",
       "folioviv  foliohog                                                         \n",
       "100013601 1               1.0          1          1          0          0  \n",
       "100013602 1               1.0          1          2          1          1  \n",
       "100013603 1               1.0          0          1          0          0  \n",
       "100013604 1               5.0          0          0          0          0  \n",
       "100013606 1               0.0          0          0          0          0  \n",
       "\n",
       "[5 rows x 45 columns]"
      ]
     },
     "execution_count": 37,
     "metadata": {},
     "output_type": "execute_result"
    }
   ],
   "source": [
    "# Leer los datos de los hogares\n",
    "valores_missing = ['', ' ']\n",
    "hogares = pd.read_csv(\"conjunto_de_datos_hogares_enigh_2018_ns.csv\", \\\n",
    "                    index_col= [0,1], \\\n",
    "                    usecols= [0, 1, 22, 23, 24, 25, 26, 27, 28, 29, 30, 31, 32, 33, 35, 36, 37, 38, 39, \\\n",
    "                              41, 43, 45, 47, 49, 51, 53, 55, 57, 59, 61, 63, 65, 67, 69, 71, 73, 75, \\\n",
    "                              77, 79, 81, 83, 85, 87, 89, 91, 93, 95], \\\n",
    "                      na_values = valores_missing)\n",
    "hogares.head()"
   ]
  },
  {
   "cell_type": "code",
   "execution_count": 38,
   "metadata": {},
   "outputs": [
    {
     "data": {
      "text/plain": [
       "(74647, 45)"
      ]
     },
     "execution_count": 38,
     "metadata": {},
     "output_type": "execute_result"
    }
   ],
   "source": [
    "hogares.shape"
   ]
  },
  {
   "cell_type": "markdown",
   "metadata": {},
   "source": [
    "La librería que usaremos para obtener las reglas de asociación requiere un Data Frame con variables Booleanas por tal motivo las transformaremos "
   ]
  },
  {
   "cell_type": "markdown",
   "metadata": {},
   "source": [
    "**Nota.** Recordar que en reglas de asociación, nos interesa que la 'canasta' contenga el item y no el número de items"
   ]
  },
  {
   "cell_type": "code",
   "execution_count": 39,
   "metadata": {},
   "outputs": [],
   "source": [
    "# Transformar a valores Booleanos\n",
    "hogares_bool = hogares > 0"
   ]
  },
  {
   "cell_type": "markdown",
   "metadata": {},
   "source": [
    "Unir el valor de gasto por hogar a la tabla de hogares"
   ]
  },
  {
   "cell_type": "code",
   "execution_count": 40,
   "metadata": {},
   "outputs": [],
   "source": [
    "#help(pd.merge)"
   ]
  },
  {
   "cell_type": "code",
   "execution_count": 41,
   "metadata": {},
   "outputs": [
    {
     "data": {
      "text/plain": [
       "(74647, 46)"
      ]
     },
     "execution_count": 41,
     "metadata": {},
     "output_type": "execute_result"
    }
   ],
   "source": [
    "#union = hogares.merge(gasto_x_hogar, how='left', left_on= ['folioviv','foliohog'], right_on=['folioviv','foliohog'])\n",
    "union = hogares_bool.merge(gasto_x_hogar, how='left', left_index=True, right_index=True)\n",
    "union.shape"
   ]
  },
  {
   "cell_type": "code",
   "execution_count": 42,
   "metadata": {},
   "outputs": [
    {
     "data": {
      "text/html": [
       "<div>\n",
       "<style scoped>\n",
       "    .dataframe tbody tr th:only-of-type {\n",
       "        vertical-align: middle;\n",
       "    }\n",
       "\n",
       "    .dataframe tbody tr th {\n",
       "        vertical-align: top;\n",
       "    }\n",
       "\n",
       "    .dataframe thead th {\n",
       "        text-align: right;\n",
       "    }\n",
       "</style>\n",
       "<table border=\"1\" class=\"dataframe\">\n",
       "  <thead>\n",
       "    <tr style=\"text-align: right;\">\n",
       "      <th></th>\n",
       "      <th></th>\n",
       "      <th>alim17_1</th>\n",
       "      <th>alim17_2</th>\n",
       "      <th>alim17_3</th>\n",
       "      <th>alim17_4</th>\n",
       "      <th>alim17_5</th>\n",
       "      <th>alim17_6</th>\n",
       "      <th>alim17_7</th>\n",
       "      <th>alim17_8</th>\n",
       "      <th>alim17_9</th>\n",
       "      <th>alim17_10</th>\n",
       "      <th>...</th>\n",
       "      <th>num_estuf</th>\n",
       "      <th>num_lavad</th>\n",
       "      <th>num_planc</th>\n",
       "      <th>num_maqui</th>\n",
       "      <th>num_venti</th>\n",
       "      <th>num_aspir</th>\n",
       "      <th>num_compu</th>\n",
       "      <th>num_impre</th>\n",
       "      <th>num_juego</th>\n",
       "      <th>ingreso_alto</th>\n",
       "    </tr>\n",
       "    <tr>\n",
       "      <th>folioviv</th>\n",
       "      <th>foliohog</th>\n",
       "      <th></th>\n",
       "      <th></th>\n",
       "      <th></th>\n",
       "      <th></th>\n",
       "      <th></th>\n",
       "      <th></th>\n",
       "      <th></th>\n",
       "      <th></th>\n",
       "      <th></th>\n",
       "      <th></th>\n",
       "      <th></th>\n",
       "      <th></th>\n",
       "      <th></th>\n",
       "      <th></th>\n",
       "      <th></th>\n",
       "      <th></th>\n",
       "      <th></th>\n",
       "      <th></th>\n",
       "      <th></th>\n",
       "      <th></th>\n",
       "      <th></th>\n",
       "    </tr>\n",
       "  </thead>\n",
       "  <tbody>\n",
       "    <tr>\n",
       "      <th>100013601</th>\n",
       "      <th>1</th>\n",
       "      <td>True</td>\n",
       "      <td>True</td>\n",
       "      <td>True</td>\n",
       "      <td>True</td>\n",
       "      <td>True</td>\n",
       "      <td>True</td>\n",
       "      <td>True</td>\n",
       "      <td>True</td>\n",
       "      <td>True</td>\n",
       "      <td>True</td>\n",
       "      <td>...</td>\n",
       "      <td>True</td>\n",
       "      <td>True</td>\n",
       "      <td>True</td>\n",
       "      <td>True</td>\n",
       "      <td>True</td>\n",
       "      <td>True</td>\n",
       "      <td>True</td>\n",
       "      <td>False</td>\n",
       "      <td>False</td>\n",
       "      <td>False</td>\n",
       "    </tr>\n",
       "    <tr>\n",
       "      <th>100013602</th>\n",
       "      <th>1</th>\n",
       "      <td>True</td>\n",
       "      <td>True</td>\n",
       "      <td>True</td>\n",
       "      <td>True</td>\n",
       "      <td>True</td>\n",
       "      <td>True</td>\n",
       "      <td>False</td>\n",
       "      <td>True</td>\n",
       "      <td>True</td>\n",
       "      <td>True</td>\n",
       "      <td>...</td>\n",
       "      <td>True</td>\n",
       "      <td>True</td>\n",
       "      <td>True</td>\n",
       "      <td>True</td>\n",
       "      <td>True</td>\n",
       "      <td>True</td>\n",
       "      <td>True</td>\n",
       "      <td>True</td>\n",
       "      <td>True</td>\n",
       "      <td>True</td>\n",
       "    </tr>\n",
       "    <tr>\n",
       "      <th>100013603</th>\n",
       "      <th>1</th>\n",
       "      <td>True</td>\n",
       "      <td>True</td>\n",
       "      <td>True</td>\n",
       "      <td>True</td>\n",
       "      <td>True</td>\n",
       "      <td>True</td>\n",
       "      <td>True</td>\n",
       "      <td>True</td>\n",
       "      <td>True</td>\n",
       "      <td>True</td>\n",
       "      <td>...</td>\n",
       "      <td>True</td>\n",
       "      <td>True</td>\n",
       "      <td>True</td>\n",
       "      <td>False</td>\n",
       "      <td>True</td>\n",
       "      <td>False</td>\n",
       "      <td>True</td>\n",
       "      <td>False</td>\n",
       "      <td>False</td>\n",
       "      <td>True</td>\n",
       "    </tr>\n",
       "    <tr>\n",
       "      <th>100013604</th>\n",
       "      <th>1</th>\n",
       "      <td>True</td>\n",
       "      <td>True</td>\n",
       "      <td>True</td>\n",
       "      <td>True</td>\n",
       "      <td>True</td>\n",
       "      <td>True</td>\n",
       "      <td>True</td>\n",
       "      <td>True</td>\n",
       "      <td>True</td>\n",
       "      <td>True</td>\n",
       "      <td>...</td>\n",
       "      <td>True</td>\n",
       "      <td>True</td>\n",
       "      <td>True</td>\n",
       "      <td>True</td>\n",
       "      <td>True</td>\n",
       "      <td>False</td>\n",
       "      <td>False</td>\n",
       "      <td>False</td>\n",
       "      <td>False</td>\n",
       "      <td>False</td>\n",
       "    </tr>\n",
       "    <tr>\n",
       "      <th>100013606</th>\n",
       "      <th>1</th>\n",
       "      <td>True</td>\n",
       "      <td>True</td>\n",
       "      <td>True</td>\n",
       "      <td>True</td>\n",
       "      <td>True</td>\n",
       "      <td>True</td>\n",
       "      <td>False</td>\n",
       "      <td>True</td>\n",
       "      <td>True</td>\n",
       "      <td>True</td>\n",
       "      <td>...</td>\n",
       "      <td>True</td>\n",
       "      <td>True</td>\n",
       "      <td>True</td>\n",
       "      <td>False</td>\n",
       "      <td>False</td>\n",
       "      <td>False</td>\n",
       "      <td>False</td>\n",
       "      <td>False</td>\n",
       "      <td>False</td>\n",
       "      <td>False</td>\n",
       "    </tr>\n",
       "  </tbody>\n",
       "</table>\n",
       "<p>5 rows × 46 columns</p>\n",
       "</div>"
      ],
      "text/plain": [
       "                    alim17_1  alim17_2  alim17_3  alim17_4  alim17_5  \\\n",
       "folioviv  foliohog                                                     \n",
       "100013601 1             True      True      True      True      True   \n",
       "100013602 1             True      True      True      True      True   \n",
       "100013603 1             True      True      True      True      True   \n",
       "100013604 1             True      True      True      True      True   \n",
       "100013606 1             True      True      True      True      True   \n",
       "\n",
       "                    alim17_6  alim17_7  alim17_8  alim17_9  alim17_10  ...  \\\n",
       "folioviv  foliohog                                                     ...   \n",
       "100013601 1             True      True      True      True       True  ...   \n",
       "100013602 1             True     False      True      True       True  ...   \n",
       "100013603 1             True      True      True      True       True  ...   \n",
       "100013604 1             True      True      True      True       True  ...   \n",
       "100013606 1             True     False      True      True       True  ...   \n",
       "\n",
       "                    num_estuf  num_lavad  num_planc  num_maqui  num_venti  \\\n",
       "folioviv  foliohog                                                          \n",
       "100013601 1              True       True       True       True       True   \n",
       "100013602 1              True       True       True       True       True   \n",
       "100013603 1              True       True       True      False       True   \n",
       "100013604 1              True       True       True       True       True   \n",
       "100013606 1              True       True       True      False      False   \n",
       "\n",
       "                    num_aspir  num_compu  num_impre  num_juego  ingreso_alto  \n",
       "folioviv  foliohog                                                            \n",
       "100013601 1              True       True      False      False         False  \n",
       "100013602 1              True       True       True       True          True  \n",
       "100013603 1             False       True      False      False          True  \n",
       "100013604 1             False      False      False      False         False  \n",
       "100013606 1             False      False      False      False         False  \n",
       "\n",
       "[5 rows x 46 columns]"
      ]
     },
     "execution_count": 42,
     "metadata": {},
     "output_type": "execute_result"
    }
   ],
   "source": [
    "union.head()"
   ]
  },
  {
   "cell_type": "code",
   "execution_count": 43,
   "metadata": {},
   "outputs": [
    {
     "data": {
      "text/plain": [
       "30397"
      ]
     },
     "execution_count": 43,
     "metadata": {},
     "output_type": "execute_result"
    }
   ],
   "source": [
    "# Checar la cantidad de missings para la variable gasto\n",
    "union.ingreso_alto.isnull().sum()"
   ]
  },
  {
   "cell_type": "code",
   "execution_count": 44,
   "metadata": {},
   "outputs": [
    {
     "name": "stderr",
     "output_type": "stream",
     "text": [
      "<ipython-input-44-541aebc02e2d>:3: SettingWithCopyWarning: \n",
      "A value is trying to be set on a copy of a slice from a DataFrame.\n",
      "Try using .loc[row_indexer,col_indexer] = value instead\n",
      "\n",
      "See the caveats in the documentation: https://pandas.pydata.org/pandas-docs/stable/user_guide/indexing.html#returning-a-view-versus-a-copy\n",
      "  datos[\"ingreso_alto\"] = datos[\"ingreso_alto\"].astype(bool)\n"
     ]
    },
    {
     "data": {
      "text/plain": [
       "(44250, 46)"
      ]
     },
     "execution_count": 44,
     "metadata": {},
     "output_type": "execute_result"
    }
   ],
   "source": [
    "# filtrar donde no haya missings\n",
    "datos = union[union.ingreso_alto.notnull()]\n",
    "datos[\"ingreso_alto\"] = datos[\"ingreso_alto\"].astype(bool)\n",
    "datos.shape"
   ]
  },
  {
   "cell_type": "code",
   "execution_count": 45,
   "metadata": {},
   "outputs": [
    {
     "data": {
      "text/html": [
       "<div>\n",
       "<style scoped>\n",
       "    .dataframe tbody tr th:only-of-type {\n",
       "        vertical-align: middle;\n",
       "    }\n",
       "\n",
       "    .dataframe tbody tr th {\n",
       "        vertical-align: top;\n",
       "    }\n",
       "\n",
       "    .dataframe thead th {\n",
       "        text-align: right;\n",
       "    }\n",
       "</style>\n",
       "<table border=\"1\" class=\"dataframe\">\n",
       "  <thead>\n",
       "    <tr style=\"text-align: right;\">\n",
       "      <th></th>\n",
       "      <th></th>\n",
       "      <th>alim17_1</th>\n",
       "      <th>alim17_2</th>\n",
       "      <th>alim17_3</th>\n",
       "      <th>alim17_4</th>\n",
       "      <th>alim17_5</th>\n",
       "      <th>alim17_6</th>\n",
       "      <th>alim17_7</th>\n",
       "      <th>alim17_8</th>\n",
       "      <th>alim17_9</th>\n",
       "      <th>alim17_10</th>\n",
       "      <th>...</th>\n",
       "      <th>num_estuf</th>\n",
       "      <th>num_lavad</th>\n",
       "      <th>num_planc</th>\n",
       "      <th>num_maqui</th>\n",
       "      <th>num_venti</th>\n",
       "      <th>num_aspir</th>\n",
       "      <th>num_compu</th>\n",
       "      <th>num_impre</th>\n",
       "      <th>num_juego</th>\n",
       "      <th>ingreso_alto</th>\n",
       "    </tr>\n",
       "    <tr>\n",
       "      <th>folioviv</th>\n",
       "      <th>foliohog</th>\n",
       "      <th></th>\n",
       "      <th></th>\n",
       "      <th></th>\n",
       "      <th></th>\n",
       "      <th></th>\n",
       "      <th></th>\n",
       "      <th></th>\n",
       "      <th></th>\n",
       "      <th></th>\n",
       "      <th></th>\n",
       "      <th></th>\n",
       "      <th></th>\n",
       "      <th></th>\n",
       "      <th></th>\n",
       "      <th></th>\n",
       "      <th></th>\n",
       "      <th></th>\n",
       "      <th></th>\n",
       "      <th></th>\n",
       "      <th></th>\n",
       "      <th></th>\n",
       "    </tr>\n",
       "  </thead>\n",
       "  <tbody>\n",
       "    <tr>\n",
       "      <th>100013601</th>\n",
       "      <th>1</th>\n",
       "      <td>True</td>\n",
       "      <td>True</td>\n",
       "      <td>True</td>\n",
       "      <td>True</td>\n",
       "      <td>True</td>\n",
       "      <td>True</td>\n",
       "      <td>True</td>\n",
       "      <td>True</td>\n",
       "      <td>True</td>\n",
       "      <td>True</td>\n",
       "      <td>...</td>\n",
       "      <td>True</td>\n",
       "      <td>True</td>\n",
       "      <td>True</td>\n",
       "      <td>True</td>\n",
       "      <td>True</td>\n",
       "      <td>True</td>\n",
       "      <td>True</td>\n",
       "      <td>False</td>\n",
       "      <td>False</td>\n",
       "      <td>False</td>\n",
       "    </tr>\n",
       "    <tr>\n",
       "      <th>100013602</th>\n",
       "      <th>1</th>\n",
       "      <td>True</td>\n",
       "      <td>True</td>\n",
       "      <td>True</td>\n",
       "      <td>True</td>\n",
       "      <td>True</td>\n",
       "      <td>True</td>\n",
       "      <td>False</td>\n",
       "      <td>True</td>\n",
       "      <td>True</td>\n",
       "      <td>True</td>\n",
       "      <td>...</td>\n",
       "      <td>True</td>\n",
       "      <td>True</td>\n",
       "      <td>True</td>\n",
       "      <td>True</td>\n",
       "      <td>True</td>\n",
       "      <td>True</td>\n",
       "      <td>True</td>\n",
       "      <td>True</td>\n",
       "      <td>True</td>\n",
       "      <td>True</td>\n",
       "    </tr>\n",
       "    <tr>\n",
       "      <th>100013603</th>\n",
       "      <th>1</th>\n",
       "      <td>True</td>\n",
       "      <td>True</td>\n",
       "      <td>True</td>\n",
       "      <td>True</td>\n",
       "      <td>True</td>\n",
       "      <td>True</td>\n",
       "      <td>True</td>\n",
       "      <td>True</td>\n",
       "      <td>True</td>\n",
       "      <td>True</td>\n",
       "      <td>...</td>\n",
       "      <td>True</td>\n",
       "      <td>True</td>\n",
       "      <td>True</td>\n",
       "      <td>False</td>\n",
       "      <td>True</td>\n",
       "      <td>False</td>\n",
       "      <td>True</td>\n",
       "      <td>False</td>\n",
       "      <td>False</td>\n",
       "      <td>True</td>\n",
       "    </tr>\n",
       "    <tr>\n",
       "      <th>100013604</th>\n",
       "      <th>1</th>\n",
       "      <td>True</td>\n",
       "      <td>True</td>\n",
       "      <td>True</td>\n",
       "      <td>True</td>\n",
       "      <td>True</td>\n",
       "      <td>True</td>\n",
       "      <td>True</td>\n",
       "      <td>True</td>\n",
       "      <td>True</td>\n",
       "      <td>True</td>\n",
       "      <td>...</td>\n",
       "      <td>True</td>\n",
       "      <td>True</td>\n",
       "      <td>True</td>\n",
       "      <td>True</td>\n",
       "      <td>True</td>\n",
       "      <td>False</td>\n",
       "      <td>False</td>\n",
       "      <td>False</td>\n",
       "      <td>False</td>\n",
       "      <td>False</td>\n",
       "    </tr>\n",
       "    <tr>\n",
       "      <th>100013606</th>\n",
       "      <th>1</th>\n",
       "      <td>True</td>\n",
       "      <td>True</td>\n",
       "      <td>True</td>\n",
       "      <td>True</td>\n",
       "      <td>True</td>\n",
       "      <td>True</td>\n",
       "      <td>False</td>\n",
       "      <td>True</td>\n",
       "      <td>True</td>\n",
       "      <td>True</td>\n",
       "      <td>...</td>\n",
       "      <td>True</td>\n",
       "      <td>True</td>\n",
       "      <td>True</td>\n",
       "      <td>False</td>\n",
       "      <td>False</td>\n",
       "      <td>False</td>\n",
       "      <td>False</td>\n",
       "      <td>False</td>\n",
       "      <td>False</td>\n",
       "      <td>False</td>\n",
       "    </tr>\n",
       "  </tbody>\n",
       "</table>\n",
       "<p>5 rows × 46 columns</p>\n",
       "</div>"
      ],
      "text/plain": [
       "                    alim17_1  alim17_2  alim17_3  alim17_4  alim17_5  \\\n",
       "folioviv  foliohog                                                     \n",
       "100013601 1             True      True      True      True      True   \n",
       "100013602 1             True      True      True      True      True   \n",
       "100013603 1             True      True      True      True      True   \n",
       "100013604 1             True      True      True      True      True   \n",
       "100013606 1             True      True      True      True      True   \n",
       "\n",
       "                    alim17_6  alim17_7  alim17_8  alim17_9  alim17_10  ...  \\\n",
       "folioviv  foliohog                                                     ...   \n",
       "100013601 1             True      True      True      True       True  ...   \n",
       "100013602 1             True     False      True      True       True  ...   \n",
       "100013603 1             True      True      True      True       True  ...   \n",
       "100013604 1             True      True      True      True       True  ...   \n",
       "100013606 1             True     False      True      True       True  ...   \n",
       "\n",
       "                    num_estuf  num_lavad  num_planc  num_maqui  num_venti  \\\n",
       "folioviv  foliohog                                                          \n",
       "100013601 1              True       True       True       True       True   \n",
       "100013602 1              True       True       True       True       True   \n",
       "100013603 1              True       True       True      False       True   \n",
       "100013604 1              True       True       True       True       True   \n",
       "100013606 1              True       True       True      False      False   \n",
       "\n",
       "                    num_aspir  num_compu  num_impre  num_juego  ingreso_alto  \n",
       "folioviv  foliohog                                                            \n",
       "100013601 1              True       True      False      False         False  \n",
       "100013602 1              True       True       True       True          True  \n",
       "100013603 1             False       True      False      False          True  \n",
       "100013604 1             False      False      False      False         False  \n",
       "100013606 1             False      False      False      False         False  \n",
       "\n",
       "[5 rows x 46 columns]"
      ]
     },
     "execution_count": 45,
     "metadata": {},
     "output_type": "execute_result"
    }
   ],
   "source": [
    "datos.head()"
   ]
  },
  {
   "cell_type": "code",
   "execution_count": 46,
   "metadata": {},
   "outputs": [
    {
     "data": {
      "text/plain": [
       "11063"
      ]
     },
     "execution_count": 46,
     "metadata": {},
     "output_type": "execute_result"
    }
   ],
   "source": [
    "# Revisar cuantos registros tienen ingreso alto\n",
    "datos.ingreso_alto.sum()"
   ]
  },
  {
   "cell_type": "markdown",
   "metadata": {},
   "source": [
    "Para comenzar a hacer pruebas pueden trabajar con una muestra de los datos."
   ]
  },
  {
   "cell_type": "code",
   "execution_count": 47,
   "metadata": {},
   "outputs": [],
   "source": [
    "# help(pd.DataFrame.sample)"
   ]
  },
  {
   "cell_type": "code",
   "execution_count": 48,
   "metadata": {},
   "outputs": [],
   "source": [
    "datos_muestra = datos.sample(n=10000, random_state = 202011)"
   ]
  },
  {
   "cell_type": "markdown",
   "metadata": {},
   "source": [
    "**Ejercicio 1**"
   ]
  },
  {
   "cell_type": "markdown",
   "metadata": {},
   "source": [
    "Experimentar con diferentes niveles de soporte, confianza y lift para encotrar reglas de asociación que les hagan sentido considerando la variable ingreso_alto como **consecuente**"
   ]
  },
  {
   "cell_type": "code",
   "execution_count": 49,
   "metadata": {},
   "outputs": [],
   "source": [
    "#!pip install mlxtend "
   ]
  },
  {
   "cell_type": "code",
   "execution_count": 50,
   "metadata": {},
   "outputs": [],
   "source": [
    "# Importar las funciones a utilizar\n",
    "from mlxtend.frequent_patterns import apriori, association_rules"
   ]
  },
  {
   "cell_type": "markdown",
   "metadata": {},
   "source": [
    "Experimentar con distintos niveles de soporte y el máximo número elementos en los itemsets.\n",
    "\n",
    "Nota. Para saber el soporte de cada variable individual se puede ejecutar datos.mean()"
   ]
  },
  {
   "cell_type": "markdown",
   "metadata": {},
   "source": [
    "La opción de low_memory nos permite ejecutar el algoritmo para datos 'grandes' cuando nuestros recursos de memoria son limitados pero toma más tiempo ejecutarse"
   ]
  },
  {
   "cell_type": "code",
   "execution_count": 51,
   "metadata": {},
   "outputs": [
    {
     "name": "stdout",
     "output_type": "stream",
     "text": [
      "Help on function apriori in module mlxtend.frequent_patterns.apriori:\n",
      "\n",
      "apriori(df, min_support=0.5, use_colnames=False, max_len=None, verbose=0, low_memory=False)\n",
      "    Get frequent itemsets from a one-hot DataFrame\n",
      "    \n",
      "    Parameters\n",
      "    -----------\n",
      "    df : pandas DataFrame\n",
      "      pandas DataFrame the encoded format. Also supports\n",
      "      DataFrames with sparse data; for more info, please\n",
      "      see (https://pandas.pydata.org/pandas-docs/stable/\n",
      "           user_guide/sparse.html#sparse-data-structures)\n",
      "    \n",
      "      Please note that the old pandas SparseDataFrame format\n",
      "      is no longer supported in mlxtend >= 0.17.2.\n",
      "    \n",
      "      The allowed values are either 0/1 or True/False.\n",
      "      For example,\n",
      "    \n",
      "    ```\n",
      "             Apple  Bananas   Beer  Chicken   Milk   Rice\n",
      "        0     True    False   True     True  False   True\n",
      "        1     True    False   True    False  False   True\n",
      "        2     True    False   True    False  False  False\n",
      "        3     True     True  False    False  False  False\n",
      "        4    False    False   True     True   True   True\n",
      "        5    False    False   True    False   True   True\n",
      "        6    False    False   True    False   True  False\n",
      "        7     True     True  False    False  False  False\n",
      "    ```\n",
      "    \n",
      "    min_support : float (default: 0.5)\n",
      "      A float between 0 and 1 for minumum support of the itemsets returned.\n",
      "      The support is computed as the fraction\n",
      "      `transactions_where_item(s)_occur / total_transactions`.\n",
      "    \n",
      "    use_colnames : bool (default: False)\n",
      "      If `True`, uses the DataFrames' column names in the returned DataFrame\n",
      "      instead of column indices.\n",
      "    \n",
      "    max_len : int (default: None)\n",
      "      Maximum length of the itemsets generated. If `None` (default) all\n",
      "      possible itemsets lengths (under the apriori condition) are evaluated.\n",
      "    \n",
      "    verbose : int (default: 0)\n",
      "      Shows the number of iterations if >= 1 and `low_memory` is `True`. If\n",
      "      >=1 and `low_memory` is `False`, shows the number of combinations.\n",
      "    \n",
      "    low_memory : bool (default: False)\n",
      "      If `True`, uses an iterator to search for combinations above\n",
      "      `min_support`.\n",
      "      Note that while `low_memory=True` should only be used for large dataset\n",
      "      if memory resources are limited, because this implementation is approx.\n",
      "      3-6x slower than the default.\n",
      "    \n",
      "    \n",
      "    Returns\n",
      "    -----------\n",
      "    pandas DataFrame with columns ['support', 'itemsets'] of all itemsets\n",
      "      that are >= `min_support` and < than `max_len`\n",
      "      (if `max_len` is not None).\n",
      "      Each itemset in the 'itemsets' column is of type `frozenset`,\n",
      "      which is a Python built-in type that behaves similarly to\n",
      "      sets except that it is immutable\n",
      "      (For more info, see\n",
      "      https://docs.python.org/3.6/library/stdtypes.html#frozenset).\n",
      "    \n",
      "    Examples\n",
      "    -----------\n",
      "    For usage examples, please see\n",
      "    http://rasbt.github.io/mlxtend/user_guide/frequent_patterns/apriori/\n",
      "\n"
     ]
    }
   ],
   "source": [
    "help(apriori)"
   ]
  },
  {
   "cell_type": "code",
   "execution_count": 52,
   "metadata": {},
   "outputs": [],
   "source": [
    "# Usar el algoritmo Apriori para obtener itemsets frecuentes\n",
    "frequent_itemsets = apriori(datos, \n",
    "                            min_support = 0.2, #Inserta valor \n",
    "                            max_len = 5, #Inserta valor\n",
    "                            use_colnames = True,\n",
    "                            low_memory = True) "
   ]
  },
  {
   "cell_type": "code",
   "execution_count": 54,
   "metadata": {},
   "outputs": [
    {
     "name": "stdout",
     "output_type": "stream",
     "text": [
      "(92600, 2)\n"
     ]
    },
    {
     "data": {
      "text/html": [
       "<div>\n",
       "<style scoped>\n",
       "    .dataframe tbody tr th:only-of-type {\n",
       "        vertical-align: middle;\n",
       "    }\n",
       "\n",
       "    .dataframe tbody tr th {\n",
       "        vertical-align: top;\n",
       "    }\n",
       "\n",
       "    .dataframe thead th {\n",
       "        text-align: right;\n",
       "    }\n",
       "</style>\n",
       "<table border=\"1\" class=\"dataframe\">\n",
       "  <thead>\n",
       "    <tr style=\"text-align: right;\">\n",
       "      <th></th>\n",
       "      <th>support</th>\n",
       "      <th>itemsets</th>\n",
       "    </tr>\n",
       "  </thead>\n",
       "  <tbody>\n",
       "    <tr>\n",
       "      <th>0</th>\n",
       "      <td>0.995458</td>\n",
       "      <td>(alim17_1)</td>\n",
       "    </tr>\n",
       "    <tr>\n",
       "      <th>1</th>\n",
       "      <td>0.836565</td>\n",
       "      <td>(alim17_2)</td>\n",
       "    </tr>\n",
       "    <tr>\n",
       "      <th>2</th>\n",
       "      <td>0.943119</td>\n",
       "      <td>(alim17_3)</td>\n",
       "    </tr>\n",
       "    <tr>\n",
       "      <th>3</th>\n",
       "      <td>0.895706</td>\n",
       "      <td>(alim17_4)</td>\n",
       "    </tr>\n",
       "    <tr>\n",
       "      <th>4</th>\n",
       "      <td>0.925605</td>\n",
       "      <td>(alim17_5)</td>\n",
       "    </tr>\n",
       "  </tbody>\n",
       "</table>\n",
       "</div>"
      ],
      "text/plain": [
       "    support    itemsets\n",
       "0  0.995458  (alim17_1)\n",
       "1  0.836565  (alim17_2)\n",
       "2  0.943119  (alim17_3)\n",
       "3  0.895706  (alim17_4)\n",
       "4  0.925605  (alim17_5)"
      ]
     },
     "metadata": {},
     "output_type": "display_data"
    }
   ],
   "source": [
    "print(frequent_itemsets.shape)\n",
    "display(frequent_itemsets.head())"
   ]
  },
  {
   "cell_type": "markdown",
   "metadata": {},
   "source": [
    "Experimentar con distintos valores (pueden variar la métrica si lo consideran adecuado)"
   ]
  },
  {
   "cell_type": "code",
   "execution_count": 55,
   "metadata": {},
   "outputs": [
    {
     "name": "stdout",
     "output_type": "stream",
     "text": [
      "Help on function association_rules in module mlxtend.frequent_patterns.association_rules:\n",
      "\n",
      "association_rules(df, metric='confidence', min_threshold=0.8, support_only=False)\n",
      "    Generates a DataFrame of association rules including the\n",
      "    metrics 'score', 'confidence', and 'lift'\n",
      "    \n",
      "    Parameters\n",
      "    -----------\n",
      "    df : pandas DataFrame\n",
      "      pandas DataFrame of frequent itemsets\n",
      "      with columns ['support', 'itemsets']\n",
      "    \n",
      "    metric : string (default: 'confidence')\n",
      "      Metric to evaluate if a rule is of interest.\n",
      "      **Automatically set to 'support' if `support_only=True`.**\n",
      "      Otherwise, supported metrics are 'support', 'confidence', 'lift',\n",
      "      'leverage', and 'conviction'\n",
      "      These metrics are computed as follows:\n",
      "    \n",
      "      - support(A->C) = support(A+C) [aka 'support'], range: [0, 1]\n",
      "    \n",
      "      - confidence(A->C) = support(A+C) / support(A), range: [0, 1]\n",
      "    \n",
      "      - lift(A->C) = confidence(A->C) / support(C), range: [0, inf]\n",
      "    \n",
      "      - leverage(A->C) = support(A->C) - support(A)*support(C),\n",
      "        range: [-1, 1]\n",
      "    \n",
      "      - conviction = [1 - support(C)] / [1 - confidence(A->C)],\n",
      "        range: [0, inf]\n",
      "    \n",
      "    \n",
      "    min_threshold : float (default: 0.8)\n",
      "      Minimal threshold for the evaluation metric,\n",
      "      via the `metric` parameter,\n",
      "      to decide whether a candidate rule is of interest.\n",
      "    \n",
      "    support_only : bool (default: False)\n",
      "      Only computes the rule support and fills the other\n",
      "      metric columns with NaNs. This is useful if:\n",
      "    \n",
      "      a) the input DataFrame is incomplete, e.g., does\n",
      "      not contain support values for all rule antecedents\n",
      "      and consequents\n",
      "    \n",
      "      b) you simply want to speed up the computation because\n",
      "      you don't need the other metrics.\n",
      "    \n",
      "    Returns\n",
      "    ----------\n",
      "    pandas DataFrame with columns \"antecedents\" and \"consequents\"\n",
      "      that store itemsets, plus the scoring metric columns:\n",
      "      \"antecedent support\", \"consequent support\",\n",
      "      \"support\", \"confidence\", \"lift\",\n",
      "      \"leverage\", \"conviction\"\n",
      "      of all rules for which\n",
      "      metric(rule) >= min_threshold.\n",
      "      Each entry in the \"antecedents\" and \"consequents\" columns are\n",
      "      of type `frozenset`, which is a Python built-in type that\n",
      "      behaves similarly to sets except that it is immutable\n",
      "      (For more info, see\n",
      "      https://docs.python.org/3.6/library/stdtypes.html#frozenset).\n",
      "    \n",
      "    Examples\n",
      "    -----------\n",
      "    For usage examples, please see\n",
      "    http://rasbt.github.io/mlxtend/user_guide/frequent_patterns/association_rules/\n",
      "\n"
     ]
    }
   ],
   "source": [
    "help(association_rules)"
   ]
  },
  {
   "cell_type": "code",
   "execution_count": 56,
   "metadata": {},
   "outputs": [],
   "source": [
    "# Generar reglas de asociación con un nivel mínimo de confianza\n",
    "rules = association_rules(frequent_itemsets, \n",
    "                          metric = 'support', \n",
    "                          min_threshold = 0.2) # Inserta valor"
   ]
  },
  {
   "cell_type": "code",
   "execution_count": 57,
   "metadata": {},
   "outputs": [
    {
     "name": "stdout",
     "output_type": "stream",
     "text": [
      "(2401894, 9)\n"
     ]
    },
    {
     "data": {
      "text/html": [
       "<div>\n",
       "<style scoped>\n",
       "    .dataframe tbody tr th:only-of-type {\n",
       "        vertical-align: middle;\n",
       "    }\n",
       "\n",
       "    .dataframe tbody tr th {\n",
       "        vertical-align: top;\n",
       "    }\n",
       "\n",
       "    .dataframe thead th {\n",
       "        text-align: right;\n",
       "    }\n",
       "</style>\n",
       "<table border=\"1\" class=\"dataframe\">\n",
       "  <thead>\n",
       "    <tr style=\"text-align: right;\">\n",
       "      <th></th>\n",
       "      <th>antecedents</th>\n",
       "      <th>consequents</th>\n",
       "      <th>antecedent support</th>\n",
       "      <th>consequent support</th>\n",
       "      <th>support</th>\n",
       "      <th>confidence</th>\n",
       "      <th>lift</th>\n",
       "      <th>leverage</th>\n",
       "      <th>conviction</th>\n",
       "    </tr>\n",
       "  </thead>\n",
       "  <tbody>\n",
       "    <tr>\n",
       "      <th>0</th>\n",
       "      <td>(alim17_1)</td>\n",
       "      <td>(alim17_2)</td>\n",
       "      <td>0.995458</td>\n",
       "      <td>0.836565</td>\n",
       "      <td>0.835096</td>\n",
       "      <td>0.838907</td>\n",
       "      <td>1.002799</td>\n",
       "      <td>0.002331</td>\n",
       "      <td>1.014536</td>\n",
       "    </tr>\n",
       "    <tr>\n",
       "      <th>1</th>\n",
       "      <td>(alim17_2)</td>\n",
       "      <td>(alim17_1)</td>\n",
       "      <td>0.836565</td>\n",
       "      <td>0.995458</td>\n",
       "      <td>0.835096</td>\n",
       "      <td>0.998244</td>\n",
       "      <td>1.002799</td>\n",
       "      <td>0.002331</td>\n",
       "      <td>2.586916</td>\n",
       "    </tr>\n",
       "    <tr>\n",
       "      <th>2</th>\n",
       "      <td>(alim17_1)</td>\n",
       "      <td>(alim17_3)</td>\n",
       "      <td>0.995458</td>\n",
       "      <td>0.943119</td>\n",
       "      <td>0.940972</td>\n",
       "      <td>0.945265</td>\n",
       "      <td>1.002276</td>\n",
       "      <td>0.002137</td>\n",
       "      <td>1.039223</td>\n",
       "    </tr>\n",
       "    <tr>\n",
       "      <th>3</th>\n",
       "      <td>(alim17_3)</td>\n",
       "      <td>(alim17_1)</td>\n",
       "      <td>0.943119</td>\n",
       "      <td>0.995458</td>\n",
       "      <td>0.940972</td>\n",
       "      <td>0.997724</td>\n",
       "      <td>1.002276</td>\n",
       "      <td>0.002137</td>\n",
       "      <td>1.995440</td>\n",
       "    </tr>\n",
       "    <tr>\n",
       "      <th>4</th>\n",
       "      <td>(alim17_1)</td>\n",
       "      <td>(alim17_4)</td>\n",
       "      <td>0.995458</td>\n",
       "      <td>0.895706</td>\n",
       "      <td>0.893401</td>\n",
       "      <td>0.897478</td>\n",
       "      <td>1.001978</td>\n",
       "      <td>0.001764</td>\n",
       "      <td>1.017280</td>\n",
       "    </tr>\n",
       "  </tbody>\n",
       "</table>\n",
       "</div>"
      ],
      "text/plain": [
       "  antecedents consequents  antecedent support  consequent support   support  \\\n",
       "0  (alim17_1)  (alim17_2)            0.995458            0.836565  0.835096   \n",
       "1  (alim17_2)  (alim17_1)            0.836565            0.995458  0.835096   \n",
       "2  (alim17_1)  (alim17_3)            0.995458            0.943119  0.940972   \n",
       "3  (alim17_3)  (alim17_1)            0.943119            0.995458  0.940972   \n",
       "4  (alim17_1)  (alim17_4)            0.995458            0.895706  0.893401   \n",
       "\n",
       "   confidence      lift  leverage  conviction  \n",
       "0    0.838907  1.002799  0.002331    1.014536  \n",
       "1    0.998244  1.002799  0.002331    2.586916  \n",
       "2    0.945265  1.002276  0.002137    1.039223  \n",
       "3    0.997724  1.002276  0.002137    1.995440  \n",
       "4    0.897478  1.001978  0.001764    1.017280  "
      ]
     },
     "metadata": {},
     "output_type": "display_data"
    }
   ],
   "source": [
    "print(rules.shape)\n",
    "display(rules.head())"
   ]
  },
  {
   "cell_type": "markdown",
   "metadata": {},
   "source": [
    "Notar que el número de reglas puede ser mucho mayor que el número de itemsets frecuentes"
   ]
  },
  {
   "cell_type": "markdown",
   "metadata": {},
   "source": [
    "Filtrar las reglas donde el consecuente es la variable ingreso alto"
   ]
  },
  {
   "cell_type": "code",
   "execution_count": 58,
   "metadata": {},
   "outputs": [
    {
     "data": {
      "text/html": [
       "<div>\n",
       "<style scoped>\n",
       "    .dataframe tbody tr th:only-of-type {\n",
       "        vertical-align: middle;\n",
       "    }\n",
       "\n",
       "    .dataframe tbody tr th {\n",
       "        vertical-align: top;\n",
       "    }\n",
       "\n",
       "    .dataframe thead th {\n",
       "        text-align: right;\n",
       "    }\n",
       "</style>\n",
       "<table border=\"1\" class=\"dataframe\">\n",
       "  <thead>\n",
       "    <tr style=\"text-align: right;\">\n",
       "      <th></th>\n",
       "      <th>antecedents</th>\n",
       "      <th>consequents</th>\n",
       "      <th>antecedent support</th>\n",
       "      <th>consequent support</th>\n",
       "      <th>support</th>\n",
       "      <th>confidence</th>\n",
       "      <th>lift</th>\n",
       "      <th>leverage</th>\n",
       "      <th>conviction</th>\n",
       "    </tr>\n",
       "  </thead>\n",
       "  <tbody>\n",
       "    <tr>\n",
       "      <th>58</th>\n",
       "      <td>(alim17_1)</td>\n",
       "      <td>(ingreso_alto)</td>\n",
       "      <td>0.995458</td>\n",
       "      <td>0.250011</td>\n",
       "      <td>0.248362</td>\n",
       "      <td>0.249495</td>\n",
       "      <td>0.997934</td>\n",
       "      <td>-0.000514</td>\n",
       "      <td>0.999312</td>\n",
       "    </tr>\n",
       "    <tr>\n",
       "      <th>115</th>\n",
       "      <td>(alim17_2)</td>\n",
       "      <td>(ingreso_alto)</td>\n",
       "      <td>0.836565</td>\n",
       "      <td>0.250011</td>\n",
       "      <td>0.217220</td>\n",
       "      <td>0.259657</td>\n",
       "      <td>1.038583</td>\n",
       "      <td>0.008070</td>\n",
       "      <td>1.013029</td>\n",
       "    </tr>\n",
       "    <tr>\n",
       "      <th>169</th>\n",
       "      <td>(alim17_3)</td>\n",
       "      <td>(ingreso_alto)</td>\n",
       "      <td>0.943119</td>\n",
       "      <td>0.250011</td>\n",
       "      <td>0.242893</td>\n",
       "      <td>0.257542</td>\n",
       "      <td>1.030121</td>\n",
       "      <td>0.007102</td>\n",
       "      <td>1.010143</td>\n",
       "    </tr>\n",
       "    <tr>\n",
       "      <th>220</th>\n",
       "      <td>(alim17_4)</td>\n",
       "      <td>(ingreso_alto)</td>\n",
       "      <td>0.895706</td>\n",
       "      <td>0.250011</td>\n",
       "      <td>0.237085</td>\n",
       "      <td>0.264690</td>\n",
       "      <td>1.058713</td>\n",
       "      <td>0.013148</td>\n",
       "      <td>1.019963</td>\n",
       "    </tr>\n",
       "    <tr>\n",
       "      <th>271</th>\n",
       "      <td>(alim17_5)</td>\n",
       "      <td>(ingreso_alto)</td>\n",
       "      <td>0.925605</td>\n",
       "      <td>0.250011</td>\n",
       "      <td>0.242802</td>\n",
       "      <td>0.262317</td>\n",
       "      <td>1.049223</td>\n",
       "      <td>0.011391</td>\n",
       "      <td>1.016682</td>\n",
       "    </tr>\n",
       "  </tbody>\n",
       "</table>\n",
       "</div>"
      ],
      "text/plain": [
       "    antecedents     consequents  antecedent support  consequent support  \\\n",
       "58   (alim17_1)  (ingreso_alto)            0.995458            0.250011   \n",
       "115  (alim17_2)  (ingreso_alto)            0.836565            0.250011   \n",
       "169  (alim17_3)  (ingreso_alto)            0.943119            0.250011   \n",
       "220  (alim17_4)  (ingreso_alto)            0.895706            0.250011   \n",
       "271  (alim17_5)  (ingreso_alto)            0.925605            0.250011   \n",
       "\n",
       "      support  confidence      lift  leverage  conviction  \n",
       "58   0.248362    0.249495  0.997934 -0.000514    0.999312  \n",
       "115  0.217220    0.259657  1.038583  0.008070    1.013029  \n",
       "169  0.242893    0.257542  1.030121  0.007102    1.010143  \n",
       "220  0.237085    0.264690  1.058713  0.013148    1.019963  \n",
       "271  0.242802    0.262317  1.049223  0.011391    1.016682  "
      ]
     },
     "execution_count": 58,
     "metadata": {},
     "output_type": "execute_result"
    }
   ],
   "source": [
    "rules_income_consecuent = rules[rules['consequents'] == {'ingreso_alto'}]\n",
    "rules_income_consecuent.head()"
   ]
  },
  {
   "cell_type": "code",
   "execution_count": 59,
   "metadata": {},
   "outputs": [
    {
     "data": {
      "text/plain": [
       "(4896, 9)"
      ]
     },
     "execution_count": 59,
     "metadata": {},
     "output_type": "execute_result"
    }
   ],
   "source": [
    "rules_income_consecuent.shape"
   ]
  },
  {
   "cell_type": "markdown",
   "metadata": {},
   "source": [
    "La siguiente gráfica puede servir para identificar puntos de corte para filtrar reglas. "
   ]
  },
  {
   "cell_type": "code",
   "execution_count": 60,
   "metadata": {},
   "outputs": [],
   "source": [
    "# Librerías para graficar\n",
    "import matplotlib.pyplot as plt\n",
    "import seaborn as sns"
   ]
  },
  {
   "cell_type": "code",
   "execution_count": 61,
   "metadata": {},
   "outputs": [
    {
     "data": {
      "image/png": "[encoded data removed]",
      "text/plain": [
       "<Figure size 720x720 with 1 Axes>"
      ]
     },
     "metadata": {
      "needs_background": "light"
     },
     "output_type": "display_data"
    }
   ],
   "source": [
    "plt.figure(figsize=(10,10))\n",
    "sns.scatterplot(x = \"support\", y = \"confidence\", size = \"lift\", data = rules_income_consecuent)\n",
    "\n",
    "plt.show()"
   ]
  },
  {
   "cell_type": "markdown",
   "metadata": {
    "collapsed": true
   },
   "source": [
    "Experimentar con distintos niveles de de soporte, confianza y lift"
   ]
  },
  {
   "cell_type": "code",
   "execution_count": 69,
   "metadata": {},
   "outputs": [],
   "source": [
    "filtered_rules = rules_income_consecuent[(rules_income_consecuent['support'] > 0.2) &  # Modifca el valor\n",
    "                (rules_income_consecuent['confidence'] > 0.3) & # Modifica el valor\n",
    "                (rules_income_consecuent['lift'] >= 1)] # Modifica el valor"
   ]
  },
  {
   "cell_type": "code",
   "execution_count": 70,
   "metadata": {},
   "outputs": [
    {
     "name": "stdout",
     "output_type": "stream",
     "text": [
      "(678, 9)\n"
     ]
    }
   ],
   "source": [
    "print(filtered_rules.shape)"
   ]
  },
  {
   "cell_type": "code",
   "execution_count": 85,
   "metadata": {},
   "outputs": [
    {
     "data": {
      "text/html": [
       "<div>\n",
       "<style scoped>\n",
       "    .dataframe tbody tr th:only-of-type {\n",
       "        vertical-align: middle;\n",
       "    }\n",
       "\n",
       "    .dataframe tbody tr th {\n",
       "        vertical-align: top;\n",
       "    }\n",
       "\n",
       "    .dataframe thead th {\n",
       "        text-align: right;\n",
       "    }\n",
       "</style>\n",
       "<table border=\"1\" class=\"dataframe\">\n",
       "  <thead>\n",
       "    <tr style=\"text-align: right;\">\n",
       "      <th></th>\n",
       "      <th>antecedents</th>\n",
       "      <th>consequents</th>\n",
       "      <th>antecedent support</th>\n",
       "      <th>consequent support</th>\n",
       "      <th>support</th>\n",
       "      <th>confidence</th>\n",
       "      <th>lift</th>\n",
       "      <th>leverage</th>\n",
       "      <th>conviction</th>\n",
       "    </tr>\n",
       "  </thead>\n",
       "  <tbody>\n",
       "    <tr>\n",
       "      <th>813</th>\n",
       "      <td>(num_lavad)</td>\n",
       "      <td>(ingreso_alto)</td>\n",
       "      <td>0.694847</td>\n",
       "      <td>0.250011</td>\n",
       "      <td>0.209424</td>\n",
       "      <td>0.301395</td>\n",
       "      <td>1.205527</td>\n",
       "      <td>0.035704</td>\n",
       "      <td>1.073552</td>\n",
       "    </tr>\n",
       "    <tr>\n",
       "      <th>3077</th>\n",
       "      <td>(alim17_1, num_lavad)</td>\n",
       "      <td>(ingreso_alto)</td>\n",
       "      <td>0.692542</td>\n",
       "      <td>0.250011</td>\n",
       "      <td>0.208339</td>\n",
       "      <td>0.300832</td>\n",
       "      <td>1.203274</td>\n",
       "      <td>0.035196</td>\n",
       "      <td>1.072688</td>\n",
       "    </tr>\n",
       "    <tr>\n",
       "      <th>6779</th>\n",
       "      <td>(num_tvd, alim17_3)</td>\n",
       "      <td>(ingreso_alto)</td>\n",
       "      <td>0.677740</td>\n",
       "      <td>0.250011</td>\n",
       "      <td>0.205198</td>\n",
       "      <td>0.302768</td>\n",
       "      <td>1.211016</td>\n",
       "      <td>0.035755</td>\n",
       "      <td>1.075665</td>\n",
       "    </tr>\n",
       "    <tr>\n",
       "      <th>6978</th>\n",
       "      <td>(num_lavad, alim17_3)</td>\n",
       "      <td>(ingreso_alto)</td>\n",
       "      <td>0.665605</td>\n",
       "      <td>0.250011</td>\n",
       "      <td>0.205040</td>\n",
       "      <td>0.308050</td>\n",
       "      <td>1.232145</td>\n",
       "      <td>0.038631</td>\n",
       "      <td>1.083877</td>\n",
       "    </tr>\n",
       "    <tr>\n",
       "      <th>8524</th>\n",
       "      <td>(num_tvd, alim17_4)</td>\n",
       "      <td>(ingreso_alto)</td>\n",
       "      <td>0.651480</td>\n",
       "      <td>0.250011</td>\n",
       "      <td>0.200904</td>\n",
       "      <td>0.308381</td>\n",
       "      <td>1.233467</td>\n",
       "      <td>0.038027</td>\n",
       "      <td>1.084395</td>\n",
       "    </tr>\n",
       "    <tr>\n",
       "      <th>8723</th>\n",
       "      <td>(alim17_4, num_lavad)</td>\n",
       "      <td>(ingreso_alto)</td>\n",
       "      <td>0.639232</td>\n",
       "      <td>0.250011</td>\n",
       "      <td>0.200633</td>\n",
       "      <td>0.313866</td>\n",
       "      <td>1.255405</td>\n",
       "      <td>0.040818</td>\n",
       "      <td>1.093064</td>\n",
       "    </tr>\n",
       "    <tr>\n",
       "      <th>8741</th>\n",
       "      <td>(alim17_4, num_planc)</td>\n",
       "      <td>(ingreso_alto)</td>\n",
       "      <td>0.690328</td>\n",
       "      <td>0.250011</td>\n",
       "      <td>0.207751</td>\n",
       "      <td>0.300946</td>\n",
       "      <td>1.203730</td>\n",
       "      <td>0.035162</td>\n",
       "      <td>1.072862</td>\n",
       "    </tr>\n",
       "    <tr>\n",
       "      <th>10121</th>\n",
       "      <td>(num_tvd, alim17_5)</td>\n",
       "      <td>(ingreso_alto)</td>\n",
       "      <td>0.671141</td>\n",
       "      <td>0.250011</td>\n",
       "      <td>0.205311</td>\n",
       "      <td>0.305913</td>\n",
       "      <td>1.223596</td>\n",
       "      <td>0.037518</td>\n",
       "      <td>1.080540</td>\n",
       "    </tr>\n",
       "    <tr>\n",
       "      <th>10319</th>\n",
       "      <td>(alim17_5, num_lavad)</td>\n",
       "      <td>(ingreso_alto)</td>\n",
       "      <td>0.661831</td>\n",
       "      <td>0.250011</td>\n",
       "      <td>0.204949</td>\n",
       "      <td>0.309670</td>\n",
       "      <td>1.238625</td>\n",
       "      <td>0.039484</td>\n",
       "      <td>1.086421</td>\n",
       "    </tr>\n",
       "    <tr>\n",
       "      <th>11772</th>\n",
       "      <td>(num_lavad, alim17_6)</td>\n",
       "      <td>(ingreso_alto)</td>\n",
       "      <td>0.661672</td>\n",
       "      <td>0.250011</td>\n",
       "      <td>0.200972</td>\n",
       "      <td>0.303733</td>\n",
       "      <td>1.214877</td>\n",
       "      <td>0.035546</td>\n",
       "      <td>1.077157</td>\n",
       "    </tr>\n",
       "    <tr>\n",
       "      <th>13823</th>\n",
       "      <td>(alim17_8, num_lavad)</td>\n",
       "      <td>(ingreso_alto)</td>\n",
       "      <td>0.674305</td>\n",
       "      <td>0.250011</td>\n",
       "      <td>0.202418</td>\n",
       "      <td>0.300188</td>\n",
       "      <td>1.200696</td>\n",
       "      <td>0.033834</td>\n",
       "      <td>1.071700</td>\n",
       "    </tr>\n",
       "    <tr>\n",
       "      <th>14717</th>\n",
       "      <td>(num_tvd, alim17_9)</td>\n",
       "      <td>(ingreso_alto)</td>\n",
       "      <td>0.658260</td>\n",
       "      <td>0.250011</td>\n",
       "      <td>0.202780</td>\n",
       "      <td>0.308054</td>\n",
       "      <td>1.232161</td>\n",
       "      <td>0.038207</td>\n",
       "      <td>1.083883</td>\n",
       "    </tr>\n",
       "    <tr>\n",
       "      <th>14915</th>\n",
       "      <td>(alim17_9, num_lavad)</td>\n",
       "      <td>(ingreso_alto)</td>\n",
       "      <td>0.651480</td>\n",
       "      <td>0.250011</td>\n",
       "      <td>0.202463</td>\n",
       "      <td>0.310774</td>\n",
       "      <td>1.243041</td>\n",
       "      <td>0.039586</td>\n",
       "      <td>1.088161</td>\n",
       "    </tr>\n",
       "    <tr>\n",
       "      <th>15922</th>\n",
       "      <td>(alim17_10, num_lavad)</td>\n",
       "      <td>(ingreso_alto)</td>\n",
       "      <td>0.688588</td>\n",
       "      <td>0.250011</td>\n",
       "      <td>0.207593</td>\n",
       "      <td>0.301477</td>\n",
       "      <td>1.205853</td>\n",
       "      <td>0.035439</td>\n",
       "      <td>1.073678</td>\n",
       "    </tr>\n",
       "    <tr>\n",
       "      <th>16780</th>\n",
       "      <td>(alim17_11, num_lavad)</td>\n",
       "      <td>(ingreso_alto)</td>\n",
       "      <td>0.666102</td>\n",
       "      <td>0.250011</td>\n",
       "      <td>0.201763</td>\n",
       "      <td>0.302901</td>\n",
       "      <td>1.211548</td>\n",
       "      <td>0.035230</td>\n",
       "      <td>1.075871</td>\n",
       "    </tr>\n",
       "    <tr>\n",
       "      <th>18173</th>\n",
       "      <td>(telefono, num_lavad)</td>\n",
       "      <td>(ingreso_alto)</td>\n",
       "      <td>0.694847</td>\n",
       "      <td>0.250011</td>\n",
       "      <td>0.209424</td>\n",
       "      <td>0.301395</td>\n",
       "      <td>1.205527</td>\n",
       "      <td>0.035704</td>\n",
       "      <td>1.073552</td>\n",
       "    </tr>\n",
       "    <tr>\n",
       "      <th>18749</th>\n",
       "      <td>(celular, num_lavad)</td>\n",
       "      <td>(ingreso_alto)</td>\n",
       "      <td>0.694847</td>\n",
       "      <td>0.250011</td>\n",
       "      <td>0.209424</td>\n",
       "      <td>0.301395</td>\n",
       "      <td>1.205527</td>\n",
       "      <td>0.035704</td>\n",
       "      <td>1.073552</td>\n",
       "    </tr>\n",
       "    <tr>\n",
       "      <th>19230</th>\n",
       "      <td>(tv_paga, num_lavad)</td>\n",
       "      <td>(ingreso_alto)</td>\n",
       "      <td>0.694847</td>\n",
       "      <td>0.250011</td>\n",
       "      <td>0.209424</td>\n",
       "      <td>0.301395</td>\n",
       "      <td>1.205527</td>\n",
       "      <td>0.035704</td>\n",
       "      <td>1.073552</td>\n",
       "    </tr>\n",
       "    <tr>\n",
       "      <th>19620</th>\n",
       "      <td>(conex_inte, num_lavad)</td>\n",
       "      <td>(ingreso_alto)</td>\n",
       "      <td>0.694847</td>\n",
       "      <td>0.250011</td>\n",
       "      <td>0.209424</td>\n",
       "      <td>0.301395</td>\n",
       "      <td>1.205527</td>\n",
       "      <td>0.035704</td>\n",
       "      <td>1.073552</td>\n",
       "    </tr>\n",
       "    <tr>\n",
       "      <th>19943</th>\n",
       "      <td>(num_tvd, num_licua)</td>\n",
       "      <td>(ingreso_alto)</td>\n",
       "      <td>0.654734</td>\n",
       "      <td>0.250011</td>\n",
       "      <td>0.201040</td>\n",
       "      <td>0.307055</td>\n",
       "      <td>1.228165</td>\n",
       "      <td>0.037349</td>\n",
       "      <td>1.082321</td>\n",
       "    </tr>\n",
       "  </tbody>\n",
       "</table>\n",
       "</div>"
      ],
      "text/plain": [
       "                   antecedents     consequents  antecedent support  \\\n",
       "813                (num_lavad)  (ingreso_alto)            0.694847   \n",
       "3077     (alim17_1, num_lavad)  (ingreso_alto)            0.692542   \n",
       "6779       (num_tvd, alim17_3)  (ingreso_alto)            0.677740   \n",
       "6978     (num_lavad, alim17_3)  (ingreso_alto)            0.665605   \n",
       "8524       (num_tvd, alim17_4)  (ingreso_alto)            0.651480   \n",
       "8723     (alim17_4, num_lavad)  (ingreso_alto)            0.639232   \n",
       "8741     (alim17_4, num_planc)  (ingreso_alto)            0.690328   \n",
       "10121      (num_tvd, alim17_5)  (ingreso_alto)            0.671141   \n",
       "10319    (alim17_5, num_lavad)  (ingreso_alto)            0.661831   \n",
       "11772    (num_lavad, alim17_6)  (ingreso_alto)            0.661672   \n",
       "13823    (alim17_8, num_lavad)  (ingreso_alto)            0.674305   \n",
       "14717      (num_tvd, alim17_9)  (ingreso_alto)            0.658260   \n",
       "14915    (alim17_9, num_lavad)  (ingreso_alto)            0.651480   \n",
       "15922   (alim17_10, num_lavad)  (ingreso_alto)            0.688588   \n",
       "16780   (alim17_11, num_lavad)  (ingreso_alto)            0.666102   \n",
       "18173    (telefono, num_lavad)  (ingreso_alto)            0.694847   \n",
       "18749     (celular, num_lavad)  (ingreso_alto)            0.694847   \n",
       "19230     (tv_paga, num_lavad)  (ingreso_alto)            0.694847   \n",
       "19620  (conex_inte, num_lavad)  (ingreso_alto)            0.694847   \n",
       "19943     (num_tvd, num_licua)  (ingreso_alto)            0.654734   \n",
       "\n",
       "       consequent support   support  confidence      lift  leverage  \\\n",
       "813              0.250011  0.209424    0.301395  1.205527  0.035704   \n",
       "3077             0.250011  0.208339    0.300832  1.203274  0.035196   \n",
       "6779             0.250011  0.205198    0.302768  1.211016  0.035755   \n",
       "6978             0.250011  0.205040    0.308050  1.232145  0.038631   \n",
       "8524             0.250011  0.200904    0.308381  1.233467  0.038027   \n",
       "8723             0.250011  0.200633    0.313866  1.255405  0.040818   \n",
       "8741             0.250011  0.207751    0.300946  1.203730  0.035162   \n",
       "10121            0.250011  0.205311    0.305913  1.223596  0.037518   \n",
       "10319            0.250011  0.204949    0.309670  1.238625  0.039484   \n",
       "11772            0.250011  0.200972    0.303733  1.214877  0.035546   \n",
       "13823            0.250011  0.202418    0.300188  1.200696  0.033834   \n",
       "14717            0.250011  0.202780    0.308054  1.232161  0.038207   \n",
       "14915            0.250011  0.202463    0.310774  1.243041  0.039586   \n",
       "15922            0.250011  0.207593    0.301477  1.205853  0.035439   \n",
       "16780            0.250011  0.201763    0.302901  1.211548  0.035230   \n",
       "18173            0.250011  0.209424    0.301395  1.205527  0.035704   \n",
       "18749            0.250011  0.209424    0.301395  1.205527  0.035704   \n",
       "19230            0.250011  0.209424    0.301395  1.205527  0.035704   \n",
       "19620            0.250011  0.209424    0.301395  1.205527  0.035704   \n",
       "19943            0.250011  0.201040    0.307055  1.228165  0.037349   \n",
       "\n",
       "       conviction  \n",
       "813      1.073552  \n",
       "3077     1.072688  \n",
       "6779     1.075665  \n",
       "6978     1.083877  \n",
       "8524     1.084395  \n",
       "8723     1.093064  \n",
       "8741     1.072862  \n",
       "10121    1.080540  \n",
       "10319    1.086421  \n",
       "11772    1.077157  \n",
       "13823    1.071700  \n",
       "14717    1.083883  \n",
       "14915    1.088161  \n",
       "15922    1.073678  \n",
       "16780    1.075871  \n",
       "18173    1.073552  \n",
       "18749    1.073552  \n",
       "19230    1.073552  \n",
       "19620    1.073552  \n",
       "19943    1.082321  "
      ]
     },
     "execution_count": 85,
     "metadata": {},
     "output_type": "execute_result"
    }
   ],
   "source": [
    "filtered_rules.head(20)"
   ]
  },
  {
   "cell_type": "markdown",
   "metadata": {
    "collapsed": true
   },
   "source": [
    "**Describir hallazgos**"
   ]
  },
  {
   "cell_type": "code",
   "execution_count": 43,
   "metadata": {},
   "outputs": [],
   "source": [
    "## Redactar aquí"
   ]
  },
  {
   "cell_type": "markdown",
   "metadata": {},
   "source": [
    "Las tuplas de artículos que tienen un soporte de antecedente alto en su mayoría se refieren a alimentos que ha consumido los integrantes del hogar: frutas, verduras o leguminosas con objetos materiales como tener lavadoras o planchas (electro domésticos), estos estna asociados a familiar con ingresos altos. También, llamó mi atención que en los últimos se encuentran tuplas que contienen servicios que se relacionan a un hogar donde hay un sostén económico estable, tales como conexión a internet, televisión de paga y por lo tanto, tener aparatos cocmo celular y televisión. Por la parte de confidence, hay una probabilidad alta de que hogares catalogados con ingreso alto tengan acceso a comprar una canasta de alimentos muy diversa que les permita tener una dieta correcta, además de poseer servicios para su entretenimiento/ocio."
   ]
  },
  {
   "cell_type": "markdown",
   "metadata": {
    "collapsed": true
   },
   "source": [
    "**Ejercicio 2**"
   ]
  },
  {
   "cell_type": "markdown",
   "metadata": {},
   "source": [
    "La siguiente métrica propuesta por Zhang T. permite medir un grado de asociación entre el antecedente y el consecuente. Un par de propiedades para está métrica son:\n",
    "\n",
    "- Toma valores entre -1 y +1\n",
    "- Valores cercanos a +1 indican asociación positiva alta\n",
    "- Valores cercanos a -1 indican asociación negativa alta\n",
    "- Sólo se requiere utilizar el soporte para construirla"
   ]
  },
  {
   "cell_type": "markdown",
   "metadata": {},
   "source": [
    "**Calcular la métrica de Zhang a la tabla rules_income_consecuent**"
   ]
  },
  {
   "cell_type": "markdown",
   "metadata": {},
   "source": [
    "$$zhang(A \\to B) = \\frac{support(A \\cup B) - support(A)*support(B)}{max[support(A \\cup B)*(1 - support(A)),support(A)*(support(B) - support(A \\cup B))]}$$"
   ]
  },
  {
   "cell_type": "markdown",
   "metadata": {},
   "source": [
    "**Utilizar la métrica de Zhang para encontrar asociaciones negativas altas y asociaciones positivas altas**"
   ]
  },
  {
   "cell_type": "code",
   "execution_count": 72,
   "metadata": {},
   "outputs": [],
   "source": [
    "# Código y hallazgos a partir de aquí"
   ]
  },
  {
   "cell_type": "code",
   "execution_count": 73,
   "metadata": {},
   "outputs": [
    {
     "data": {
      "text/html": [
       "<div>\n",
       "<style scoped>\n",
       "    .dataframe tbody tr th:only-of-type {\n",
       "        vertical-align: middle;\n",
       "    }\n",
       "\n",
       "    .dataframe tbody tr th {\n",
       "        vertical-align: top;\n",
       "    }\n",
       "\n",
       "    .dataframe thead th {\n",
       "        text-align: right;\n",
       "    }\n",
       "</style>\n",
       "<table border=\"1\" class=\"dataframe\">\n",
       "  <thead>\n",
       "    <tr style=\"text-align: right;\">\n",
       "      <th></th>\n",
       "      <th>antecedents</th>\n",
       "      <th>consequents</th>\n",
       "      <th>antecedent support</th>\n",
       "      <th>consequent support</th>\n",
       "      <th>support</th>\n",
       "      <th>confidence</th>\n",
       "      <th>lift</th>\n",
       "      <th>leverage</th>\n",
       "      <th>conviction</th>\n",
       "    </tr>\n",
       "  </thead>\n",
       "  <tbody>\n",
       "    <tr>\n",
       "      <th>58</th>\n",
       "      <td>(alim17_1)</td>\n",
       "      <td>(ingreso_alto)</td>\n",
       "      <td>0.995458</td>\n",
       "      <td>0.250011</td>\n",
       "      <td>0.248362</td>\n",
       "      <td>0.249495</td>\n",
       "      <td>0.997934</td>\n",
       "      <td>-0.000514</td>\n",
       "      <td>0.999312</td>\n",
       "    </tr>\n",
       "    <tr>\n",
       "      <th>115</th>\n",
       "      <td>(alim17_2)</td>\n",
       "      <td>(ingreso_alto)</td>\n",
       "      <td>0.836565</td>\n",
       "      <td>0.250011</td>\n",
       "      <td>0.217220</td>\n",
       "      <td>0.259657</td>\n",
       "      <td>1.038583</td>\n",
       "      <td>0.008070</td>\n",
       "      <td>1.013029</td>\n",
       "    </tr>\n",
       "    <tr>\n",
       "      <th>169</th>\n",
       "      <td>(alim17_3)</td>\n",
       "      <td>(ingreso_alto)</td>\n",
       "      <td>0.943119</td>\n",
       "      <td>0.250011</td>\n",
       "      <td>0.242893</td>\n",
       "      <td>0.257542</td>\n",
       "      <td>1.030121</td>\n",
       "      <td>0.007102</td>\n",
       "      <td>1.010143</td>\n",
       "    </tr>\n",
       "    <tr>\n",
       "      <th>220</th>\n",
       "      <td>(alim17_4)</td>\n",
       "      <td>(ingreso_alto)</td>\n",
       "      <td>0.895706</td>\n",
       "      <td>0.250011</td>\n",
       "      <td>0.237085</td>\n",
       "      <td>0.264690</td>\n",
       "      <td>1.058713</td>\n",
       "      <td>0.013148</td>\n",
       "      <td>1.019963</td>\n",
       "    </tr>\n",
       "    <tr>\n",
       "      <th>271</th>\n",
       "      <td>(alim17_5)</td>\n",
       "      <td>(ingreso_alto)</td>\n",
       "      <td>0.925605</td>\n",
       "      <td>0.250011</td>\n",
       "      <td>0.242802</td>\n",
       "      <td>0.262317</td>\n",
       "      <td>1.049223</td>\n",
       "      <td>0.011391</td>\n",
       "      <td>1.016682</td>\n",
       "    </tr>\n",
       "  </tbody>\n",
       "</table>\n",
       "</div>"
      ],
      "text/plain": [
       "    antecedents     consequents  antecedent support  consequent support  \\\n",
       "58   (alim17_1)  (ingreso_alto)            0.995458            0.250011   \n",
       "115  (alim17_2)  (ingreso_alto)            0.836565            0.250011   \n",
       "169  (alim17_3)  (ingreso_alto)            0.943119            0.250011   \n",
       "220  (alim17_4)  (ingreso_alto)            0.895706            0.250011   \n",
       "271  (alim17_5)  (ingreso_alto)            0.925605            0.250011   \n",
       "\n",
       "      support  confidence      lift  leverage  conviction  \n",
       "58   0.248362    0.249495  0.997934 -0.000514    0.999312  \n",
       "115  0.217220    0.259657  1.038583  0.008070    1.013029  \n",
       "169  0.242893    0.257542  1.030121  0.007102    1.010143  \n",
       "220  0.237085    0.264690  1.058713  0.013148    1.019963  \n",
       "271  0.242802    0.262317  1.049223  0.011391    1.016682  "
      ]
     },
     "execution_count": 73,
     "metadata": {},
     "output_type": "execute_result"
    }
   ],
   "source": [
    "rules_income_consecuent.head()"
   ]
  },
  {
   "cell_type": "code",
   "execution_count": 76,
   "metadata": {},
   "outputs": [],
   "source": [
    "support_AUB = rules_income_consecuent[(rules_income_consecuent.antecedents == A)][\"support\"].values[0]\n",
    "support_A = rules_income_consecuent[(rules_income_consecuent.antecedents == A)][\"antecedent support\"].values[0]\n",
    "support_B = rules_income_consecuent[(rules_income_consecuent.antecedents == A)][\"consequent support\"].values[0]\n",
    "Zhang_A_B = (support_AUB - (support_A*support_B))/(max(support_AUB*(1-support_A), support_A*(support_B-support_AUB)))"
   ]
  },
  {
   "cell_type": "code",
   "execution_count": 77,
   "metadata": {},
   "outputs": [
    {
     "data": {
      "text/plain": [
       "-0.31303464354919225"
      ]
     },
     "execution_count": 77,
     "metadata": {},
     "output_type": "execute_result"
    }
   ],
   "source": [
    "Zhang_A_B"
   ]
  },
  {
   "cell_type": "code",
   "execution_count": 79,
   "metadata": {},
   "outputs": [],
   "source": [
    "def Zhang(A,B):\n",
    "    support_AUB = rules_income_consecuent[(rules_income_consecuent.antecedents == A)][\"support\"].values[0]\n",
    "    support_A = rules_income_consecuent[(rules_income_consecuent.antecedents == A)][\"antecedent support\"].values[0]\n",
    "    support_B = rules_income_consecuent[(rules_income_consecuent.antecedents == A)][\"consequent support\"].values[0]\n",
    "    Zhang_A_B = (support_AUB - (support_A*support_B))/(max(support_AUB*(1-support_A), support_A*(support_B-support_AUB)))\n",
    "    return Zhang_A_B"
   ]
  },
  {
   "cell_type": "code",
   "execution_count": 80,
   "metadata": {},
   "outputs": [
    {
     "data": {
      "text/html": [
       "<div>\n",
       "<style scoped>\n",
       "    .dataframe tbody tr th:only-of-type {\n",
       "        vertical-align: middle;\n",
       "    }\n",
       "\n",
       "    .dataframe tbody tr th {\n",
       "        vertical-align: top;\n",
       "    }\n",
       "\n",
       "    .dataframe thead th {\n",
       "        text-align: right;\n",
       "    }\n",
       "</style>\n",
       "<table border=\"1\" class=\"dataframe\">\n",
       "  <thead>\n",
       "    <tr style=\"text-align: right;\">\n",
       "      <th></th>\n",
       "      <th>antecedents</th>\n",
       "      <th>consequents</th>\n",
       "      <th>antecedent support</th>\n",
       "      <th>consequent support</th>\n",
       "      <th>support</th>\n",
       "      <th>confidence</th>\n",
       "      <th>lift</th>\n",
       "      <th>leverage</th>\n",
       "      <th>conviction</th>\n",
       "    </tr>\n",
       "  </thead>\n",
       "  <tbody>\n",
       "    <tr>\n",
       "      <th>15155</th>\n",
       "      <td>(alim17_10, alim17_12)</td>\n",
       "      <td>(ingreso_alto)</td>\n",
       "      <td>0.886757</td>\n",
       "      <td>0.250011</td>\n",
       "      <td>0.224904</td>\n",
       "      <td>0.253625</td>\n",
       "      <td>1.014455</td>\n",
       "      <td>0.003205</td>\n",
       "      <td>1.004842</td>\n",
       "    </tr>\n",
       "  </tbody>\n",
       "</table>\n",
       "</div>"
      ],
      "text/plain": [
       "                  antecedents     consequents  antecedent support  \\\n",
       "15155  (alim17_10, alim17_12)  (ingreso_alto)            0.886757   \n",
       "\n",
       "       consequent support   support  confidence      lift  leverage  \\\n",
       "15155            0.250011  0.224904    0.253625  1.014455  0.003205   \n",
       "\n",
       "       conviction  \n",
       "15155    1.004842  "
      ]
     },
     "metadata": {},
     "output_type": "display_data"
    },
    {
     "data": {
      "text/plain": [
       "-0.31303464354919225"
      ]
     },
     "execution_count": 80,
     "metadata": {},
     "output_type": "execute_result"
    }
   ],
   "source": [
    "A = {\"alim17_1\"}\n",
    "B = {\"ingreso_alto\"}\n",
    "display(rules_income_consecuent[rules_income_consecuent[\"antecedents\"] == {'alim17_10', 'alim17_12'}])\n",
    "Zhang(A,B)"
   ]
  }
 ],
 "metadata": {
  "kernelspec": {
   "display_name": "Python 3",
   "language": "python",
   "name": "python3"
  },
  "language_info": {
   "codemirror_mode": {
    "name": "ipython",
    "version": 3
   },
   "file_extension": ".py",
   "mimetype": "text/x-python",
   "name": "python",
   "nbconvert_exporter": "python",
   "pygments_lexer": "ipython3",
   "version": "3.8.3"
  }
 },
 "nbformat": 4,
 "nbformat_minor": 2
}
